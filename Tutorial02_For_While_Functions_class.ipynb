{
  "nbformat": 4,
  "nbformat_minor": 0,
  "metadata": {
    "colab": {
      "provenance": [],
      "toc_visible": true,
      "authorship_tag": "ABX9TyMIDcRXfKj2SDLY2lKVOfqK",
      "include_colab_link": true
    },
    "kernelspec": {
      "name": "python3",
      "display_name": "Python 3"
    },
    "language_info": {
      "name": "python"
    }
  },
  "cells": [
    {
      "cell_type": "markdown",
      "metadata": {
        "id": "view-in-github",
        "colab_type": "text"
      },
      "source": [
        "<a href=\"https://colab.research.google.com/github/vidsvur/Python_tutorial/blob/main/Tutorial02_For_While_Functions_class.ipynb\" target=\"_parent\"><img src=\"https://colab.research.google.com/assets/colab-badge.svg\" alt=\"Open In Colab\"/></a>"
      ]
    },
    {
      "cell_type": "markdown",
      "source": [
        "# Tutorial 2\n",
        "\n",
        "In this tutorial, we will go over the basics of for and while loops, and look at python functions. We will then work on a problem together (use pseudocode), which would introduce us to how to write a complete python script, and then we will try an exercise.\n",
        "\n",
        "We will then look at how to import a library, such as numpy, and start with an introduction to arrays."
      ],
      "metadata": {
        "id": "yZbqzzPfHxEO"
      }
    },
    {
      "cell_type": "markdown",
      "source": [
        "First, a recap of what we did last class!\n",
        "\n",
        "1) What is the symbol of exponentiation in python?\n",
        "\n",
        "\n",
        "2) What is a list, and how does it differ from a tuple? Which one of the two is mutable?\n",
        "\n",
        "3) What is a dictionary? Is it more efficient to use than a list?\n",
        "\n",
        "4) Give me two ways of calling the last element in this list: `my_list=[1,2,3,4,5]`\n",
        "\n",
        "5)  From Tuesday's class : Which language is more efficient between python and c? Why?\n",
        "\n",
        "6) Bonus question: which language between python and R is more efficient in for loops?"
      ],
      "metadata": {
        "id": "XwkR_KmKXWPv"
      }
    },
    {
      "cell_type": "markdown",
      "source": [
        "From [this website](https://towardsdatascience.com/r-vs-python-vs-julia-90456a2bcbab/)\n",
        "\n",
        "\n",
        "Check out this comparison!\n",
        "\n",
        "![comparison_chart.png](data:image/png;base64,UklGRtJHAABXRUJQVlA4WAoAAAAIAAAAzwIAGwIAVlA4IC5HAADwSwGdASrQAhwCPm02l0kkIyIiIdNZEIANiWlu8i0Z8dtzYEAcW8alOXd+wF63/P/vXolXBqaRL+yjOj/qfUL5gH6bfjF6M3uF/sH/K9QH7detV6Jv9T6gH+S9MD1BPQA8tv9xvgs/q//V/c/4CP2N///sAf+j1AP/R10/XP+qfyv9gPCf+z/kl5+/i/zb9o/Jb/Aftj8e/8n4vOm/9B+Z/uX/IPsf91/uX+K/3f99/ev7z/wf+S+2z0n+Mn8Z+YHwEfkX8n/uf9i/cr/I/Ir9t2beu/6b/d+oL6p/M/85/b/8p/2/896JP8b/cv7t/1P7l8F/o/9p/wn5yf3n7AP45/Nv8N/d/3J/t3///6P3Z/t/9V4xf1j/V/9H/N/AD/JP6J/n/8L/q/+f/nP///8Pxj/l/+P/kv8z+2fti/OP8L/zP8f/rP2b+wb+R/0b/Y/3T/Nf/T/Qf/////dX/5fbt+2v/s9zf9af/gIYUIXBsGi6PTwkiiY62M2heUjZCk6p9b4voQJyVJMNx6gexu114nehY4zXi01IuJhU1tBaeXYBJsUxnnmoF+7s2oHzgZXdCepeWv9JT9dgmgHzUJxWKu2scypEvxqZPSyq0d7A21xw+kKSiYYzVQMjdPiafK4mnyuJo6Tw6/cCoMrkiNx8Ys8Kkw04K0DHhyOJCM+iSLU0cmhEZBwyNHDeT19mOCbBHkix0o4KgbpNrJplqqlHqyyCiXeWBJQAMODx31hPFl/TPU4S6HY0A5WI/5dmwBvNUNAliAvk+I/EoBrqEZsYHj7r0Gt01+JSeAu8OtJ42yDQTkQGdeZNDQN9PGdBJrlBQYId59o6tTTtKrNxfaWCTXa3gGaT7wUjHWWDWKXZk/jIEjaLSS++GSSqX/S5HR+Wgq62pU5kcNPlBP31CO0za3Q1G2VX1EJqm/UBkgSBaShDgiiN6dspk8xWdE5rJrVdCXBiNjfZJzVEGe38KD/IKFMO75drwtwl812BR65TTyK5gRcbzeIRQh2nSE2ZF5qY4v+5iKEZS9lVn1Zb010J1yXoN70poE9yk67Eda7/H6XBoQAtLG0hmBIjixLAndolz9wvPg1lMJr6CkryBaAV9C6eHHIf9wSuxvHORXPGFL1cFj3V2xlzzcW4qI4gBRjS82319/0uR1rvwB8nG0KOGSucXnhp7Ww9x87g1G2VX+PvyQrkdsyR+OJrpLPuXCKc7eTGr4HA+/0nDiH8nW7taL0ko7Zrrr7/fkjrXfY/naG9DUbZVf4/S5HWu/wI7CoOrVr5V/j9Lkda7+t6XI61mM9OdwajbKqxiqUFx5wpB+MDppZ6plVY/S5HWu/x+lyOtDD676dgvfX7OiV0QxEC3+Z9mBlOdwajbKr8KngANcEBMPS0OSHpqH1V3saOrVqf2jqDMoFJ23kE2+Rbmm1c4/jq/oXv5G9KDv+Jp8vsaOrVvGJTM9sUuWIZqLe/VHY/vpl4BtIOuEGOgq0X+UlwQM6wq7Hqkbws5kFl+H3k0ea0u39KhrQBvL1K4MQwNS5ErgxDA1LkSv8g/QwNSs5WP7PpwlfV+LzdVVQ/ix5OABtpg3KPQR+lwZYWG2YJoqNg6b41QdFnuY7EXsj1dSb9fdAS0P8M+piMMcQnOBcLSxk59mdY8TJjacr/H6XIV0M/k8UoOlEqRWGl4sAtHhminIIsUJwKcKf1YRatA30tXL3EDawDAgt3CdgY9dApi9x2ccrCO+zTawy1KG2Sjf9Lkda7/H6XIUa3z4aq6vYQeI/w6PeuuCc/KjCLLRHGOT/+6aoq0yuuj1UGlPHP4HCsv68Ev1/j6a5xNjKXsBrCsmU53BqNsqvoZhh/BwikL237Y+fKr0m3yxBL/Xm/9E//e320pFPec2dsqAVwinO4NRtlV/jt3Y6FE6emXcDSuCVbIcJf7V2nvSmtqnSZI74RPle7Yi/Kybd8GgSO4WafkAaYdRf3JoGZXQTSQZ9ZyzZe6I7yOaDWiKqR1rv8fpcjrXf3Xua6a80da7/H35IwZ9jgVwIf196sYGCHg4FBgh/X3n2kEU+D62VxCZwW6EEivkq3lsV+BcCYAPMTp56F/vlgWxgB4RqYKHqm6DknLAtjADwjUwUPVN0FQ5kkvR4SPxJKIeqboKhzJJejwkfgzQHmJ089DAdulyNVc4mw96BMGCHerGBgh4OBPXCp0omKyeHTPz5GuAnN64f5SbQvhfmkTU9WjTgeZXBnW/156jbKr8FpybsJgq62pU5jI9CuMs5JlPv9rJq2SSrU2rYD+46MQwpQC204VP+Wm3cFte0ey1FE5fojC7btfBDydsj6RxacB40hvt0Zvk2HFqFrv8fpcjrXf4/S5HWu/x+lscRIKvfOp+ZdmIt3yuIklz/nNzPw4/SQE7NlV/j9KsOvHybxJ4LxDCfzaAgIEvgdmz6kgI9cl3ybxJ4LxDCfuFVxwv0OP0kBHrkti0z3fK4jMOhH5X+P0uJTJKWWbj+NXaxh/p/jbsOcsgdydT053BqNsqv7trPuEG9TrXfhUKdYMEO1shPHkrqNpyv6zaxQmwj1Sv89PJwyS4G3CoX7gWuK1bbNG3CTFqYd2VYTTtVkS5BK9MByGKb5yKXSHV4TouhqNIc96lEqMe6q2APmN5uKuYfFR9akEKx0fmisEC1aB6faVJlbXyXG0WT4WfpchXXPNNISOGau+pu8hqpxih25XZh0hW5IMYycNw+ZrspW9aWp7vz7st9BstshlJpHgwqdqP0plRDqik203+P0uQExXC73nf3E7rOaENlOZ7sWNoaqkCa0OXYYOaaYn7j9KsOxAVP30Os+OithfgH/Mtyl3JQbvxvhNUEprBeayFQJmwHz5A6GIBMDc/b5JzR1H6VBLFEqruitQXlkNboo6tVn2IpCOSAmQVxMresaDUbZVPbDKe9Otym+tfuPtm8MC4ZI5oxOIykH9wn0d1vZbquJIIPATane8Mqu6wwUHJGLbkPa27d2PQRZD/Cw2a8vQhB57MKGenO3/tBVifpQu9srhsdNEyU6Sz6T5CN38+Nc1D6omt97Z9Dd5Y83Nq2742PaE3C/wiBZFGlZ7vKp9YeugwV8/wpGi7Xl65mtfz7fAfL9CHq0US+ZcpbtpIOg8igZrWm16sbl9o7MHeoWrYnpEFz0pJkDlTj8VlxXpixrp+sowGQjcVOaE+Kv/us4bXiBdaJGV8YG1jocz+UtSQE4CuX6CnZXE1D6q72SI9xHNorOwHsgbJFayyU2gOqDvVc2cLcn7oB1htLzbs6YiUUrgph64Uyp9a4/DTU8t93wuKOWlcGIWq9CPVnVQwNS5Er91SYcyuDEMDUuRK4MQwNS5Er91SYcyuDEMDUsFzUlrMd7q/RLmWihf4feF942DJHJja2mSuR+ElThM9dslPefeggh3oEwXy4DM/a6z5poU1Ya0aJ2IW6mDBCawAtrp+HZk5tY+gYqHeavkZBd0c2VmaK1Avf97wGjjMUGBeggh3midbe3q/FCPLNq5xNPlcS+kfE08WKn4G1cfXD7gfuU0+MDAoMEOgAA/v8sVzhJ9dBzpCKGxy63lWphf+7BlIUuh49PzFdFocSMxfDnUAIR/zv35A0HLQo8pGWyxFbc3fn8JX/Ne1MPt24pL8o19jL94Np0+UDV3dBhK9ABlQ1pcR9j90S91Wqm3U1tu1YR0kykDzLQiwEnjN4cXcPIR1DEBTGqoPVL8r4c1MUk7WiUJm3agaxQrBV5u5GU6CU3Lup+3zXzY1wfE8izc637Y7PN7cO1SVJpPl0oksQYXROBJKs05TUDkG3s1bwMrMKXfPAjhlYitDyPRFE66TTDhhr//zmCpi8ApGr450+1nvBRFxZ+ms9NuXfkHLiNe7Tbq+Mu8o6uMfYRT4yMaLMLsz235Vj44oHdOFqhG2vebgbWFlkSnlZstiWYk5z1LTvq5JJuXtFgn9zAp4Z7Ibgcv9DKNlI4xmbSiQ6uvYfUaMiVbZo1dAX1wHsisxUYUM+b7cPGhQfYI9w8colPjGy8a0N08jEReanAa4s86Zw478MCMQM/vGpGZ2cihoWRQN8390PSbGSmwo8V1I0+qnEDVIamadivzYyr0s5eN2WKhhpVRXtR/5ngUpekRTFTLsphSWDwofP/+XWIHOFCVPUp8CZ17PHyNRzdlj/u0Xf6DmThL2UWAEjlB0WrUr+tx9DXr2KeW/vqqfG0fdRCwvXLAnlJKXBnRpe3LUJxPmEdR+n0h0Kj96AmB/dLyNHNtGM8v9v1XYHZY5okeRF5lzwuuZAxjkgSwe4n8h1J2efnNqYa4nvg9tjgE8/c4kd1EuAEXzTxqoFtPwSrRYR8F5fSf+6RzhrzgBuGq1bk3OeHh4OeZU8kUj5p40ywTyTTU+kdwMTMe7xM1VBbm7gQg9cb/YIPKo5MaJgDnyV+r/yMWbs4TuVc8Nnogs7zYiCbn2nIdT8fzqnlrnI5ROkMo7LzzchVSn24cEO1jQUVSPr+lGG1kaONqOWJUgV3z3CWmzwqxmtC/ZpaCOCWdB6SUQQoOok/mx9jn3hbmd1+TArKw37eZLXF4ROXOR9KBUinuE/ISzFhdSLCujVuTLPTJgBUEfRfLOUEmZtxebnCgrf8eg3AuutBdgrHs1Cq1f3Zmf5K3T7o123L+eQ5qG9Hwh/qNeN2xobMreyF9WBJLNjCq8GaeemacoAzCqsS5wYd/1F1GBU8a1Ye/B1m4OAIQ1xzZDC6Wrxp8WmR0JUKtwETREFK1pDf6m+/H3PQL4+/uHqWS57ZB/sdORA4YEoFOO3qihehZcxQI+l+zZbjtsultZuzMH8LACAdti5p5x8IDypX/I2jtgE9ubiYUU0MJOhADyUMREZYmkBE9bMyfwAu2nzaldfPRr4ckG+y1SEl/S4DKu2TZrY/il1vvu2+lHxLtbc2fJD+b5CUxnpBDVUlxgPl7NSVCospPiG1RP0Vd1ss8glOm2aMPU4WBtTN/HBYgM7DsjUP6Gmg9+uVhDp/D5aMKSPdg4Gp3jyKpPrFIEOxxyBqmRwL0PR9MAssaqKtb8p4drFy3tVSfh7LFqBmSSaT6s6MWDrROPoil7+mzjzumyL6KRHonEVMd7aEedbH6B5DCmonoz/zQQlNqE9B9rdvcTW8ZECDPU05juv0kNLdD+em1f3NZ7S2gMoV7Go1R9pi/XSq1yREpwNW2kzBjD3xJgUUb3/pGvnNa4FZJ/kvoRQMscmqiWHFVByfOqizPvsWBTn9Nn4zjUCogDriI+UnGqrGKGXBGQA7S7YT060THMOV9MD7R6XmVRaxsup2ilANl/dOdYoWsuYIpNIgQb3HknyHBeTkHV+eSmeehZ5USiYjzAiFP9qID7pXiL84R2qiYdWIHNrxC26zSm+ycfxuqGma2byLiLfoov2NqSk+tufgM8QLI/eii6K76dfG2lYiMLTvITy4flXDc+GJ8q38P44lYwlrxsfR/56pq5tIiV75IfRQ4/KmG+plC09SlmulbNVA0/TcfvISz7HvsZI/LgpVKQOxbaNaxrorvZtYqLslOaL/jJk9oQhTv6eSW1qx/73WvvDgvdvv9WeGz7fqajGWYJHeNrZE0oo235pYc8rOnjH5ORyUlCeN7xeMrrMvGt5Xs/AP7dYeMiOZodkx0JQ7oAeG5N8Vzdc+HRDkW+RHRA1OBBGT/4hYbv7OivJTcLgpfpQf08HedQYKb9Tx7pPPB+HEvtwd2s4MGMUcmSRVjNwwrhL6xpl8ybh1+JqWs3yZz10gt8YnKMQAP5KBtKPf4/grFDliz/E/OizbtFSMWC0FFjrnfJvdSl+bU5ZuDWt39D0GRRjAfzLV9PkHatnl9EUombXM9nqYo9VSjI+qY7sDcE9xcbZZp0TeJtLYul5GJVxTFTJhoKt5ohOZxitgJSN9kpI+3skBGD2DWiBys79rx2ho8+7j9gGA0W5/GA8NaK+zDo4E1ytrM027C2lr0c9s+aQD/1LraBdZVw0v32ULK/JO/MUePgTIKWEaWkQqooHpKwL9VadJvu+UY6kWEk6glAt81LvHM9hnR8U8M63qPvhuk5+xzVN9o5nvDjwLfWU5qmVkciYF7kQ5ueSd2cH20ELgZEtdYFXL9LstJjwCZEP4Y4fnSBOTpi6feSjiIpCCnPdNP2Rd6DDY2WMSaHTVs8AyXl+PcdXt2yNx1efXCNjp13ofFGokmK7mLls0YwQCdERNTWvVG/JMvjlLmhS5OPW2ESgrzltlzHzWj4pHP4EtdFVWFbdhYeR79+YxXE0zfpersJEW3vMxRRnpTDodzq/jkRRe5GZheImtKJysYgx3EzURbiI/1tSaZR50DMsLoc8Ih/7uYwSO1LYYZKlpVSuYSGENoyKjMWk9PgUZ1WEotdFe8Rvf5iO2Csq4yT4voxXpBMs25PlmIu7Ra4rrUNUbZfNm3obeQYaD12TNkvTLu0GktMkeTGTEbls4tDLJsIzb8bazpNcxaxjVDX/DlJb9QU0LEvrX65QRP+JVe10b0WsWp5et1PCjhnvvKFoD6bAjQmXAeaPp09B/zZyHGjvPsPLXC9lqCfG7ElEVrmhg0FOhS47IZVMCqsRDEH//XM9XxZma/G0bmIPuIzOfjsC18ez+b3u2TdHfmXDXZnlsCRSFyy/DlKUzsTUeerXQxpT/5y24P4HCltBpDlQ0Tiag/+2iE+7wqtxMtapqhxE+OWbSVJVZ8pjOTvA1WQd4S2xE1n/DWvw2KqAn6fQBtgBDQ3NGf0SwAkukOT+x0JzdnDstPCemgab0cBdkN0KccfuJ+Fasmze3tdZ7KywdHxRRsMqtZqrsipLa3eRMACqCwHVEYpJpfD+Sgf7fjmbISo7Mv1QTk0PKxImlf2mNYYUNQq/3UCv4UrABt0RaPKV5u9RqYFOdxdZfHjJ2FBv0Qjfig7xq7XHppnxWdbEcJyFY8iwDF0TYaz6Suf0aPPyAPyqyyMNUKNrySFAt7Rq6jz/jp4OgdFU0f2Dlw6BbaXVzzBuLGIvSCjkz/s/rOdWclbu8PYNfEl9cNUt0yhB68StbpWt0i2ZeeHLXyndNbYtz4hS3OafzQ8rLoqDFaCoqw/narSlGKf+q6jzp++djTVuO0Uaya1hytLRytoYgnWDqTxqRXZ8RNOzoCeeWTnCX/0aqHj9M0DWegW3s5iJSa1FLuN4I/4YmKSOOn88VJuykM9Mwaf1SJM/IzbhnNd35aBYezRKw8KntyIZ0YpZshaBAvlyHJntTnb5NjuAESr0ILdCaHg/DzHrep132XtdnOsdfuoJzukKupyB71w6ZfZwHqrSC60rGSkh59GFGCE2G3i656vcFy6iLUbuJD/AbJbFKGZLGCUFAUgicwQ8Dm/FeZPuF2Um8omvlM4y4v5kEm68s5bQOgG57rCYWpfqznJEYiXth2tvpwH35vwE6rY4waBPmPN1DJfVJKQ22+J6tECNUQlgVFN24q2n/XGwBbH2BzI25rqlZVYR1ennqoDprKvT0h//uUua4BuIigcb4b3G02AIjeFC0B1lLJ3w8LPb3qShDZsDEBhgZsRR3CaAHEcs9vaMk/TLYVaMz0RRqslGLp5nQlOIhnIAjpkvwBPevOZ566i3rtUV36TnhqWhL1VK83E6YIUuqMjgomC8OLYUGLmjnu+d/NVbXLbPaHSFpld0/8iMIxZGMgStktu8tj0ZrS6hR+mdrETrVvHU5cUBZhl5HyQdrZ+2JaQtqNgF5kPxNcjXoFl5Z47B7ICsIsN8pKE+EK+vFVoOTZezwwtnrH0xREo4TuzTWGJhsp3vRqgpCRKIjDATLLItfMAXlNquuR3EP71TvgEDNXntLLp4xfDS20vTM4k4I4gbwj0SO00EpkgdVR9Re/qHMxzz8RCAUpeR3LY0J9IeSCtuiiz99MvOZZT4/deLEv7kOEu9PEYLLikBj+VABbMOtOpBZHpaHGn8vnr31OVWcI2Mx8bWGJjWwMm5UUc/uwdH8PQsq5vjf5WPsB0foy7guxdDO7khNiPi2YOGo+SDV/t81Jfj6qp+tm8UVLWuyXUCpewhmfRUDTOPAA7TWryl03SmFxTfKFj+Gb4iv/OPllaTlVWvvwr4novmQRkx4PCa46ez5/L0qHzuZkcTJzQemAzY78FmhsBajnD5Z9dBg5cSb6XLerFV/QMcW9K7uLl8MfBiYpEHx+L0y7PcrlpVNmeAJ6ZVRkSdRvvgGpUt14UJDrwJPIarpJW9R2AUxlM9gKFSWMNMDsl26/pSDdFmgzxA0+E5p8q2gWzmRRnn8q08PrcN9fQGEDBI3PLdx3f40+LGSBt874OHXKIa3z+oTHWTL66TF7uiyPnVMjQHXgDjDkNxpoeDkYMaJkfD22EUscY1kJUBZgcFol1ddoRxmBe21yBL6463b2TqJZ7cs9wyIgyqdf2nWAwJY6DwHXjwvwlOZm8NU/pLIA4TJ0MupIUJ5BIDf9MnJEaUq/28bwCaoXKyQAqqf8gc2K9oU+pZ2pv5FOfn4+etvD8Mq0Fx7eZBNkHSGimNGIGkFzUoP5IQyuOoTl0SJz+PfMT5fUe4Sw7hfNJdxrXcBzpXRYe0ny0+Fyi5PRsFRQQX6cK/xXjaVIdGmoonzgRExyfgmoH5O3AlKPgyiSldxrlasiMQcgkPqgoZGCTdFuasrnCCMTK0DfZfZeX3qYYJoMquDKXPbKaQEuIbb2jVxcg/UPxC1ZUCnFubAhxc6ilIts4gk8nSraN2Tqx46AyCFekbdkt5gyIVw5dB2FHB9l0lfKqvi/ECDIggEIYWx9+2xKnSqFjbhYx2JLLNSTUwHe7u9Y0H6yMKGY55JyhBjUrRINbLNwEb7cl2z9+OipzEAXmLit2GTzTxPtMRSA+I+SvhPi7FwaUvzVl4iBggGQmoPMcUo/ZQA8tXQGYabDDfL0eeIv51WPUWluRk6Shib8LSpcmjDwYRJOoiMRAsGkS0xHHzxAkOstvzsSFs54tBsnAOyeQkTUN8DJZqdOrz9o+TTXH7F5T7k6MTCevJKweSb1pNNEkGGSU0XPi6pkaDinl4Bm11lOiYOXqOH45hv2qdBDI924lKREVQDMY7hjTs54Lm27lLJxrR4ctGNHwNWRz5/4MRCQnx42Ul/oBR9vRtFGcd2TzNiF7IFw2aEAuV+XxaB3hs3ojvwL2Umq3Abk7vwiLdMsHga+f8A9Pgry5iFlQBHCDvhwR4Q1a3FUTBpgbPSgXFQPbR+lSvluC+mBfLx9nFDCpH89o1wU3K/rGHHMogAf/ErHo36D39lhY/2X+0zn2/+VEa60A/pcrmgB3L3oQFw4cet1XSax3Xv7HTcyu6rEfDwJyYTmKlyzVWHqrL7CGFIjOaY2kaJXuZ4gYs1d0WP5d56jj7OoGDKe0rINQYoLbSRl3k4wF7aShyVuZBTK0hrmiy6CawJ3KxocmOJtl3isYpD3Y07XAhy0Qh7+rxeKaFkfELW53EIBU/N/eqSYF+YYvrpscTitQvnge3IThaqIGn7AnwelwXWsOki3KlmYnuijvsEdugEftMwxo4JgySUah9kI0dqyeYwmyzaSO6dXCCQGZQtDbfq0eFy2ZFu0rGvGrLh+kqBj/rT9fxk5aS+EYs9M3J9HflwsW28TJoidmMxBLP99mM8/cHXjrrXpCUPWeXL3jhiFvQ2pdyZMoz8WVbynB0v58Z8c7RewqD9XJompoFsWeKUJwFnaWsVaoD3ZjXYC/WqsBCYHYoT9VbqxgBACBeAYqRfstR5+DyzPeFjY/WU1452bR7D+6kxXF3KBw2g2NBeBt7zB9EmYa3Qa6COUWZ9pO5tHgs7TJQhCiD8UJ5TI6svpya4q0TK0w/hhAocEu5++k3/+bJC+xA1XJVAJFEHnsaz1djwr9iQpMg5juGidH2zQLT9Ef37aPrFbSSQb6c1fxPlphIOnByr6qFJ/0WfvP/vHAmoqEp0MyKXY8mvENyIMW0TWelPUPmM+StAaxv2P4DaDBk9ThegWFEcVoqVb3hM+ChL/h8DbYL6o1OQEIcPiHPMRcYMcP6cAn9P1GIKxa9XAXh3cBhKR1sZDw6J7dURffzvRKVI9LbNk6/+vxoCwjVR4ToIyZ1K3n18lh6E8Q4FuentxYeNLx5vISGqKEvsS3U77sj9WMRwRqlzPfUPsnZW106+GkS6E+HXXNh9474+XZ0yIB34DKz/0vrkLY/kSK7WqarISHTsLQ7NSQIQQDSeobSMLCFaKSdKlawx3tKccEiV1nDenqHHiQjZYhIBRY4Ea0LwFEAXDn3lbM9DjnwwaXOVs9Fmj4WYBdmxyHjlz8OC+QPA1lAb0RWeNIV+CGqpXXhwIgUDUrxYl0VEZvSnYULDgJyzIAhGtED3mWJtGa6S4BTwDUUzPo/KXoZ22PlYVGEvykxoA9c26AtMkmNzoMeqkNL0kyZMSslEUC3qMb/pJS9nm1cv/gA0PuVkhHZP838t6y38HZGRaFEoNnMn6hU4dxRAYSoKoXdmqbfWrWDbq535kwN2lIjXoXsQ1GkivyWnCMqxKsqMgYRqIzDP60XmkARx6HjkzF+oDfG+2lAfUw1kkHMQPVjXjl7Wou3r3Rn6zlDmUBjfcfLHek47kne8wcQWKdg/dKnkVVsVCuzDUzbE49oHs0eJNaA547rCBqvekmRGnnOQCV84i832pHkdU87Aljvu3r5T9Y3g96wx+y8f0SP8Qi+9uLgD+2MCs2WXB8KKL8vnF+lGT+7tdXG8Bwvq1j0zBy391vawWxFJXK5qTb7Tf2EB9C87AKgILLRkghR/GIdtA8WUu5kkpz2VJDnoEkr9khhyq1m7+iaTYjEPsMXsmnf2PdbSz2d9BFIwQV8sjWusJoLOIuVgx/jrsvdXCloV60FXRwbGuc2fdz/ZGUu+CA3LVYu1EIuLocVoay5A0asmU9sGN8mwpuaP4YPEMaMz/Utk/FA573fa252XzT/OdCIN19qL2CcLvJtVVWM2EqHJWRVkBvseLxeY2xSqn350Ji5A5LU1SZvCIJxK/uFosfOxom4xQuQW1cxoGeZAPYmfjEDvjn7ZRnLCiThZTkebR2Xl2AO5INChsFi5CCYyJ8EXr/0tluZbspc01Au6UIAPqiHluWeUld+00xZsk+fW3tj+VW0vtbd/FbxWiHnYitt+ykJ8EprA9e5W3P3oHVLaqbFRD53wULHTX8AXRCA3/MdzKiX0ngVrc/ZNzTZrkPeeIW2LeIhD3onx99bXdEs0qCv3WzvSwQ8M8kbNNpz8y/JlAqb3v41Mm+rspgpWeA1MMqKwLshchty2DtcpfoJIw2ndBi/vNdNNAYL3ePA5CcavSf4fRn11UtbixJxs/NO19oq6CTkrjjHsrrT3cb3tyVEqdqmhaosVNjyKC3+hJ2masu6AG5RgkKPTpwGV6SeBrxD42lZeAVIZ3kPxTk7r9tP60XwuGzrKLWOmUsmAXf49hA5C6PFF3jQjva0zntxwfqmHJF49LdP4ptmltLD8twsBwyvX//YHAHrv6pr1JKZB3l0+iUjhRYOT0/ovDDs+joAhqB9/YF2ZCitqSQFokEOOi3INO9o0SJfc7xAnLmcn/nZ6Us//Xuwgald77LBzJPw7by7nqgBI6+B2y/hmxtSHfvghgrLFxP/e3vqwg96Am0RRKIippouNit//x1axSC99/nZM2t3hqY6vaymVojBbw66fOZQomSMnip7hUNea19UXPW0qhTtDn2urGSUWFTjHvGPGYcnv5fTwFlOmrtH+QIxAxaM3/7FiiHZqsjyxBYtLZM04PHkpC9y6ln7cW2ThyIs5bykJOzlWXzLuRGgsWFVT3ozwwKrXIwJZOsmEEcRX+yYVapfqLfd4s9gPgaoFUuoXv8yDS9Y6OhhQB5HerS23mIRzmnjGkPgvkI+cNLzzcJ+icpH8AfeeWcE70TpxNXQC65MjA/Y2d4ch7EmIdmj4KlWLcX50k41G/b4Vy6Vd7EK19HIhi4YOJ9alcEiVjmFTANN0nEJ/D1LURKR0V8Qq3xgQZ9BuOoLi/rnRYqa6C+8WQFmN6dvIPNtxa1XO/MjERQNoARHKkLXBgpDrvHzbb4vUPt/CIfzeRLk5bcDRexaSlfESaT4zgXXTbHV98Ae3m6/QI7LnQm1At3lw/f5LZf0H6xAEpX5bAoqCPlJ1aGwFk63NgoK7drcnAkBwRjdaqqjqvrvI9ZDDPb5mQ6sN0PAjDRYrnNHY4Yy+nATnYcZ6dPnPq8+HI2y/i1nC3w9rW0Cp7cg2UK+oxBBQbiSLK7RGOatOqT1+WEHIkxlz/xrALgRrnxq28qdjjn/b3cOR3jwZjLA6SX20BR82Qw6UVD8SEkTFf7CqhTWx//bQE0gi+1p4S0QY9TKi2mtISee8Y4fYO4YgB8M1cOBhOqQ2VBVnfOFyjR8CKTkeUcaFrFfdlRyGO1BN0EpyWYxgrssSgRCIT56A37mEV/10AATesFQxOAjJ8Nq119qLZgMCVPbl6YBsuDWcSyhX2jT+yF8jtCRNGYdHKYeQklXOVMhavleszYX6esGJkQ+zkWuBtRjlaymnSAn5dc7+egmOHkjVTCOtLsiafw5h9WjXrXroyu8KXQhmP/wclY79NGvhUi8RU7yWz/arm80OvV9WcaaSqxGpc3OSL6QHbN6i1jEM8zZ7He30+Thg0D0F4ZEgp6isfOIzKlgDijrR3voiiN8Ze/uSIA6XaG2S5vi993H8Mwvg79BDlEz95lKXv1OOGxGlh9rBLqCR/LDp8yfbVFcYGIveC5wcq5QefzEQbq+Ku/n97K4JY87lOYcQK1JxBQ/pHYONdxSs53KYYK+ZrvfyO6qz6weHOj/XwYl8OMjUmjTToHTW70oXEVdMfFZlWU+mjjQ1wJ8ZijCSK0ZcMnEvdbAnz92t3KDrUIzptWi1IoQJRseobRHmyDmMsvIcyBwxoCNtkrkzFG8mN4UwE8Fa1ixBapc4s2mrUPp8XxxFcPie3Z8NX/7wb024sVhG3Leg7BeqwQyhCNsrnsOSi0LVwsmL4TmUgd4/2nZJU5gpZZExXLsLg3W0GZHnZq6/FT1OJdeItslJKR/iv6+ydmlvnddBxbkgGrSc2mE5tMJzZNOhpEzjxPIVKVKLRRPy+T1J8dHEcq3ZiPT7c5h7W2EZdKKM5OEnwdI9TNepx1XBa4M6E0lBgU8BzoPdH+TmmRCL48IYz3J9ZdaQTdyZ3ZPM2IX6ALhs4DEazhcsVADEsCQvx/d0UNBtEL064NTMbTpnZpjQXdQvFarQyEL20xptSCGzCDd5kCf4sNMswIFhQd/xxKuRr6kQoClc5km4pMbtMY/xmVuMlSSsL1/q4UNPLFEP7Zp9HPr0OIh8vZuMlUy6fK2xeVDAKn5v/4jWLbIZ3nszwx1l2Gczy2Lcmt52R0sj+/ELBhBwAqTjydClImSJutipsJ4wT5/g62AZvnnGpzMCe8uha0mrv3fMSjH/lTlWT4E6fPWzPpnX1YV5E+WatqiFGE2yXoUKGY/UwjtIEJUBcVs3JoIsvHf1/8HWe5bB8mf+PShw2JnbCz1bvgaghK3XBVxEAB1VHUBhPVA3ivdY5QE/EQ3h8EnjAb+BMzgs/wq6ZbxlE7ig4QhtYlVKsh13Zq/t0qElbH2ZNmnjAbpriQt4u74hUw9zO748y/ZLZCI/Ubb3dwR+vWEJF4Xsk16r+65cyw7HB/y0rtqSExef/6DPGatm+UwJCmqyZ/L5q9DPcqh1K56Ag7MdkY9F7RFw5stQFm4m3ry/Q+gBA2HKPm8ibFLTgV7DkHvy17TcD50KQ/DSGFAU6IG4tFWkHZnI7Jl1w5m7RT+Zj1snh6/J2skRTk94z1tFks3NrKoMfaVmjaJQjBoT8exijX6dsx8SwZsigwR1rhwcN+SLttQXcSJTzDrdJHncdh+5e7VuzhKJUMRf1qE82oVTxjBVqEATPvSZp1XkAT6hAWvSYIsAgUEkVCXMjU3Nr4xk3p1MIYkSEFMCrX79CiAGzmdzAGbdWKXab3bsMO5iBRvf5Wlz5cBm0fo2imyowPaA3PclMYUnUxANdeBKQXGP6QGwgaYBQEYYzP2IBiecA3wvDW+9xtqVIhXD+NXnwAXnOMbvEE3OiOEW4/uuWmP1qPA8FmdPJ81ZZWJxzrvTzE7ehglyUJsnYq2kPfpMzFzl1eq61ZVZWjuDd8C8btj/Gj53u0KRnVsnXrQ/lx6Xz0FU8eF6r+jia/WH8Ot7yPLE/p7jnpaz4pXEw5EgkuavlrE2TSk2EbzhqdXPIhAk3X1VHXd2tDMhh2nPKF2aoXNacMjXC/ky72Q5GkPVVihEGYc/51IHHKKpWxGV9Wk1IhTGoliHfR64u7h8Faz+QPKAY6H8BAYe5dvyKpZESQMd114fOkpME0Vg6FcZ6KblB0bWkf5K/X6RM9Gqf+FU+Jqb5nahka4gX0lQTOH4s1nqoDXxRAxH/ae3z4MpbcGu+sgMrZoV60raMZkabRlsNq3z+cV4SC2gCCuTl0iM4IYwdtj61Nv0jRvGP9v5OvDNYbFQeptCF28svedSrUsmTjCyXAUQmgRoNuf8vs+mOy5nXSjSMxcFGQE8L+4wK5fLiDEb8HYcIRfLLFmPiU+jRZazFOKAStr3NzknrCvap1VgFoQrqcObpyBfwi80QUrGf9rgPmbeWo6VActax/9PnYFdt+k1YXwl22lD9D9D8oFZhu/9Fi1xuAuivXT+bg3blPqiml7dt/WLCa/6fOVHYrmv606J8jv0Wd4O1mgxC5tLYlkd/rYv1+UbGSKjmw5t+nd6bEAxj1gx/T4vWdJ+VsGUQKLlUgdfkhMmoRu2i3OWLD24/LShaU/4l+6ca7+Dh0E90O9Egs4ZrXVQeIJ8ct0iR66xaShHI/w5su9xliPsJfDootK2JsZeifFMjvaUR0+myKgXc+QgyYXc3EhZ1MGU9b4yiqAudAdxdvSRek8YTw1EtLoD9HTp8OqjSJ0DLZY3oTPISQYyekpw2aMNoNlpuoJQa2e6SVQrbIjgB6vu7/7rS2crbrt9gqTtgjzDWLRjgx8XWb07LFnwS34M63wmMUJXKsD/yJkrZ51hcQFmnMgHDX8PWyXRJH2jU1HrtoZxLIKEpO/9MwSbVOUJIaooPbvuWjD0nfw4rg1iz/WdCmx+tLOGB9AMhty2gbDGpUgHJ5EWuuSsXthGMODKaBLkdwk+npKiUknAfgTQgNDCy+9BB/13vSosri8Smsdt7uHxO5SXqgO3XBQ6k36g9f6l/DOU63pEDxyjDBIo43ia14H8e0MbsTEzSKmIYE234FE4Lm/6mnJlrnVNAkHqcGH1U6sONffB0NTPCrqs5Z5Awl95r8B8C4o9lviqdyQrRKE7IIokdpD48GoixGbDoSbsjWHIuc6X/qVIuop3nDR6jHOB4S+8TMFgQDdQO11cKlwlf4kP82k0JUMjOwOaf77l0OSX5vvduZdVif6PSoBc8T/Lj1rLuGqg9tYNusaW5Iu2gw/xUJL++Q8gN7ysn+Pb17LRWuYAQ+AnnrvPF6hJsaIKczfJiv6gr4GolDsgPqB6W++M94/910jK6Fm0WGBGkiETxQloVm/89Ri6OMlE07rTkeJcpT/1Vq7Fbz/Vy7Q+NdvDKmKdGpEx9EHiN0lixR0EAeFit8wdqBkWu87paKgf+UJN2zCeYPyWdrvFTOUfSw7hXlLrLp1SXtYkEOzI2zWnlC5QL3oGPTWg3ls/7CUhafHCG6/FQ+P3nqMOTidwt+surUxTf9djoEONw0ijjRUqlgAFNuMRY9je+5/Px4DJwAPARCpzQH0kAn2OW5e2qysrIOU28/zxphbpuy894C0KCeJM+vOXvh4Fp+jiDVA9P69kM9F8K0k7u1qFFWvZT84u5BrVpNVXZhhaIGqXTjYR6KSs0vUTdmLrH7lIzfjxQ1rY1ZlrpzLIrTrtR8OlT1HvCeWtuD7YdudyB6ZEbe2zL9QEkcDUCB9SHTqZ8aunxZsh4kgjj5D+v6qEQTtTRLl0OpoPnP0MrVp/hMMmrX93KfoTDn05xAV0V5o2T3LU7xXYK95FK7wcUfALwHNlUL434ItFybZbN/z2HrTcd+4kidoc+j9SWdpMVZToIiyc8c+Xj/4lzjPgI43wRTIhRlfwJ5h9AhZ3noEChYajetd9LKk2cG4o2+9U+vdDdLmFzXJ0gwwefAlqx84aFLRcrCMjcRAYo4j3h9SimcDSpPKRs18CchriEUvs1HpVQMUQwdSujrGbkvfgvy0zYjq5F2JVTAtTmb9HC5dOk/menwgFMUAeq1X/OAOk8zvYrb8k0er8g8phEp1CfXi1CaLi6JgLooQg9+qeQYBl37/gKXyuswpTzeG2qnddWXPN+4cqcSQso48adCn89bfcMH7j4PeKvnk/vb0B4FODIpy9TNS14wqxqsXk0Zg+CEdXOL6HkIaqgUggjM9meirkT30uYJWGC9J/O+n5Y11WF1AChm3326GrpTeIU1oylF4tz5ULRkjX6dtrw5dCkkqsBQffu3BiGPoR3lcLrFRVeUVUM/1FkUzeCrkP0ON1Dox97xrpHmnLh1h+x4aB7y0DNKWAlrBHpSop9w3k6A2DXHPQy5EZ/4b7aQ4iUsiq/85H0+hx9Mn48wOpYWvdHpIw+TZnv+Hb8PlHu9eWr4r63uRYTkgtPwIVSnwvpGHD0sztg8x+fTM3vBp9SMWHUXDDTh9HdjE3nfgyTtQWqIrZOe/doPxSbiZ8Ziig+i0Zey0clQe3lgP01WvDvjKoIG/ohf5ICsr/j9vR675ydrQ9pn1y5iwAsjCM2+Vz+d7pLsEGQN603BqYMaXcqrVeyQ04gELvGfBdjf9A8WScGYvfaZQPXR+dvekG1yRctWzsm+OO3VRsL5tqNbzoneCin/fLsA2N6JsiRpPGqNpr+2UsPABr6Igjoa5u3G/QUL+mYuiL4wjrrjBmLITY8Jg1ZMT+vzfZGh9r6gTOQd20DYW+TGUKk3ZGQ0DDqiE0OdUDLjkpaNqYTPDGR5CdyI6vcbt0NpqUqqZ6hkUkiWaRQB5ewiJWyYoPKMobVapNTN48JeOa+mBDbYJPvKWi4f53ex5be0ofpDnjy79a17/i68y5bC43poyXwBwNdK311AZHdGkxNDnQl38mDczo46AtnyO1iu2OqwxFPrjbTSntgEVCBg1oBJ4Max0cOnY20VrMcoE0quTBYTaRiu7imx64PpWd8iEbej2SKX2NeCencOwOjf022uT/HTm5SpxJi6MvEDGoy0p2kHe2he/aVfoMNrNq7jV41FyGZdVbLOpsspaPeM8qh+tKHpi60gO5y/ADiBdToedTAm8/eLJpPqZS88RfZJHDnv7xU4IjIJimPeOZ1p0Vgh4Xh7aXf88r5F2hujC56VJycyYdiZdbEMewSSWM+ortlfyLl5kbT0ccCewoKVRTvuBL/Cq2nYAxB7igY2uXmpp0egfs53fETLj0xp5KGBgnu2SW4fmm2dvNg4rCbctIwn3U/ECL3EMjhPYmAQWNoxKpgd5HalKBLOuaaz/sdMyIUIciTYVhvxVlK91DxMzJAaAc0GsebduZ+ngp0tWRvbfpn2cclXdc53FY9rCBE/T17KI1KuGwMhZr+vispzF8DCaLY+9oCszQ83BDbjwb41hsOuBKTjWGI1QdOMbrCZkvt2+6sJJWAXrQZmfVayxAIrZRmTH38bczzeoSgRfgIg81QwFlnjhabu+hNzUGrDhNZDKcKpyhDKTpa28ODZV9q0+DJtIB9ibbVaJ2f37mdys/80dNqF0E5KwSO9EoXP4onPNEjEO6PRy+zeZyKYpTVznW7M9wZhCdptlcPGpfd6YlinxEJuKWDwXRxUpC5jtLfxjH6u5YYKR3oyTY7slOY0dNgRs0OgSL0oFtfIAmlQwiCFmgW4wn7+F+H82kzF+nJ3sYUgcLHFtsIXBmPjFXZevAYHTDct8eoInpLyck0b7jtpCa6XCOdLo9VK7L8kdmAeXe2ocDwRIyGK+ozg1q1PyUqDCZuK5xqYWgN+BvOmgPIYBMmabKHR0GVwmRsQSNfLM77OZ1QODoUsqUVZYOSEkrC8tJr5PJDaFkd3jy5yP2Hm3gvZW1Ckh0PvoIUMzoeMOH2btdZFlAJgtfMwmbjRPo4Qws5ySZl65hJJP98CxFhRxQ6Lc1HKcXYH2FUo/3nk+C8fwy/vGtcJ2ulyGqxx9Yt1Df0e/qY9h1yPI0HMSkxpgI6kwFGWFF0Ww1S7FXDOEB5DNlzz+tuTTTAEEG16xBZXPFGAF/B4lNmBcHjZaMizHnvI18+SxKw30UV8HQd+KiqP1GmHHfT0i4JR/EtZ2sNGKOV0SjtEcXM3TabvoInaNdoSTDoSWETM1QLqLheFibm6ec3EAHOfWlKg+Tir7QpVdiEkYWRWuZ5b81ijylnWC37lit5vISLPgcVy046gjagrh+Xn0Y3bzbnwXhGV6+6MHRZ0iJ3WhM5TZfu4m35KTYu6hmWbLgEZJNfvW+F7TMIbaVAoSAnHiuvA82wE3pyhF1UK1uA+g82MJBQHmyviaAPd2a4zEMnn8kGZ/UWlbUuAZLY50mt/BJqJ6aSznYoLPT7c+ZK6MGRqPcpzm2grZa88dAreLx89GFsmpc1ye1Eg4RcrqfiqjFdO1sW3t+fF4hqIvNHPkyb+zmZkiILpxQKSVM4KIPHfEQXHTChLB1jKSGYPCJYOMwOkCcQX3BXCF1cUAZJfHZ+A+zd6khaBKvhHAMqfKdpYiE26p7hr+t4JLRQpDC3qU5QQcNDhN/iRfxdk4chLSYuAPBgcdHMSyk62vXJ8KM1Wr9esOD0qCLQePNhio0BscCHohQFqc089tim6t/Wlqn6Mz6SCm8kdjb9dasJsCdPC+Pi19JEMv3LujXbcn64EqUA7yctSAOgy6F3vHM66masLSFYOQb2jZetoWFcBd3/AFqb5luo4B2qu2IjO2ZtrB2/GBXpXwTBJ59kyxt49tia8Za3lQLrJf22dD+JkUjUcDFCXt9b+HxlQx8vrXjRf9eQ9JiMinfJwmLpjLG7610Rw+wZB7PBryUjG4fke5OlGMzD12aPyixAP9qBjseJ2+v4fDuRMjILxUeDTM70YPJ9Kzkxa24NWZWryoMcCpSeWtU9ru1V+30eCGrCNn3MvXNK66REoU85ZhuH4e+7E6SO2th0CkF4Suu0EsDlULHcUA/yjPeYNuXEZT6giZvnr7EqGuS9P1+R8ekRSFdNX05znasVbl9CVQq8SjuBL02aAa7rjxQJxByxCICvfNeWpXp/WlOZPh4EL4Or4ery8WyZtBN19qk/3CkS/BrnVnMz5Hg+kMWFvXMe9lmphLc7gsNkiDtrMY4knfqEfHzVX90ihrUDhFpsMThlPKtjjEsdqlIL7sB0ggzyWHjvEJS48bAHBmkws/j+COlyRn1X01ZUg4y89CeAqcn2MaV8KmZIoCyIlKiaq10SdfLhZyv3POVmDoyYuZgveFCVhuLQnj8cUj+bRcJpBE+nvfgWtW7VjxITUtv+lLSMIKbbxFzqmM4+y6gVh9behc0N0pzIlrxyv2uC1eigNobpTxa9YVNgSy6GTEs1UzBocozzOCvV+zeppeBmsqEaV7/yUy2FQ6g/mzMqqOUA4Ow7QIQ7mT4Rp1Tra8eFn6A47DnBmwWw0OLlK5QE/gKVglIDZNX8Y0GpnEv25hnUotJ8i9FKS5jSy4bOWRcDxGGx0GlB8/C4avKpSoKI0Be98C0R1xAQLFeSEYnr1pLSTC1kaIS5H37WSgKioyVAzGvDj6+isXSxrroLV0nacHNllrgGjEkv3Kxqz+N8voGDGw2QmqdY1c3rl11FlGqPNdNm5AQlE+U2/2zAcx6f1/wE97PeTVJI3TX3h/TXXe2c4U7S2xvAoHwhlz7sFhm8zzDfL3W5zJlO6EcAVXn2imF3kazsaUFv6OBdNZtKOEvsqBlMATm8ujJsFkNasVkkKF81iuEvQWiwMqIPhSbJXzkCakUiv+EAbyfy3JtcCnfbV2q7dv8krnkiu+AmL2XgcXXG4m3PAlNbKA+XYf8QRsrPj5978r0czURd1WYUso/RPWLihl4JH53oVq3fxlvecUT7+JfDhZ15+SFZkNmMeffxj6kfU0FZhSTx6WWa7ap4BjjSR7BujFXEdtlu4U6i/xxWd2g2XsittJ/J/Pw73ePlrlledmUlPhy+qsbwPgMq20SxNttz1/P7F8yix5uplx6DwRIPht/kVz8PWShZ+8Eqq0hNk7NA37CMY2kqjjC8vxmIo05Sm1wyMaeF1LCSn/vBBxOTy8W/jXRMI0nDQ9t/rS1Yz4Cd9fAWWX3u5hv8dZwYSL0uJ8BDZDdqZHcCG/gfL0JWUWtMhij4opTtItUb8BzPfbJss4twgisUgna7hfREMwzBW69Vmv4N42lWm0211UIdJOS7ND8EzaNDqkaL5bV3Hhrw0dINEklH2b35JeAN+Smo8aO/tPfkj22JuWj4V2Kgnr1WI6ITF9VlrJQ4jcLMKqg/XNDF6iG/Fy5qsGEXr84IKLAlCa/h13eR34rsEGX5WT4iQ4mpZqvaoLiMs0brVTwZHrSd84XbvvBuJd1S9xjeoIuHmi5Egw0zHmNmsuD25FMR+Cc5nQuaX32hxsgA2wYkzePM1b3868gBojJ4EV7Yu7iQLkWEWmWZA1zjis/OmK9VABYCvg868kmFTEBX+3hr6idpbAhuUMwCl3JA5nPxVHInW49CddUmroBU7MQ2srCb/QPKOTzLTagXmLj+sym+BgO312274enUtHGlBYbt9+8Px4fCR6sao/4nbm6rvFhyW9+4W/WLrFMfscasMeM6H1xaidrsTri4eZ/fLZFEBwcT1+6TXCRnvnoVodMcOTz9hOrfirv6VZ85xHJvmxAPIFf2bN0sYVFMx49g/xdfLt0o3Q3fu65HivmRxM3hbdQ0RNg6f7IGgx7Yc8GTSaecKgUVH6zYsxU/qaZeefp12ccOyeOy2n2MGHtQp3aph/kZOMp1D6c/qBwV7i8Om1gGtwFnnTHkGgoAtfaEATI4UamnXv4YJWE6I1TumNyKSdFyiTDSoRDFEyMZN5uYyHC+3nkHhJBodaWK2GPwRAB1NE6233FpcK1sCXzroMGwNwB/o33NY3Eu7sr0qiwVbAGAyjTaXgLuBO0whSBpZgd7mg1JS/+elJpJc4Y5mKSpyhAzjjuj/0GH49vSK95TkogJL5WlvvJHXPGCr+BfRQpBX1wRp/HJPGTYE8K74aCjzgNpsBL3NX2qXk4z+ZnZmAKyNl3Luqsh5zgQdGfFkBnmNSJm6Qxz82/nxQ3dTHwxyyEv4wiTn0PqQjW2kmx3jeD+aIhWhUOgnAYPGhsdwzitzTaKUtlJhf34wOR8ur3VXaBJG24Sl+m40Ta5ne+X0iEN7QnmeSddgGjoGcnrn6PcyN4P/MKBr/U1mD6j/TKUzJXh9KpTt2gve04K9ksOChi9rbaIdtzuaK4yB16A1bXzrD2ID1DVLQQz/XK0WhYnRE6yfjkVj7izS6pvWZrEJa3FhHHY3u/4LT3mbYE5aGk8ynjSM5TaQZsvMR/KIvyxAEyjVED+IrnDwQUOOCiXS6WwEkA4XAfZJbms/CwJ7uYkBuALXdRdejCcZWD4BYcTkULzT04tzC0jJda6QC5yva6Qq5cIbTGG2o6ExwR9miepPGbPX5ShV6/fuNDHAvYUfQyFqo7TfgEbTQN4WwhQ5jIKk1xOoIFQqIYoDQ8OtXODKmWb6lvi6tQY4niVtFwjaK9elEZZxIx0Txx5zza4VWovAqBfHgrkNK1bf4BNxt9MN/gQo+/GWxmZwLD+eMEPZcj2jGBma6N1lq1pfJqWN09dHLCYlxb5o+UR4Gv27dWbdWrq0UXKevljVwvDsXsdi3cDcORDctaulXI6ukn5FvUC0rnsxVjWRW+RdcJM3KyMkh8dMwuXOPHG1zInz8YqEkK49AETOyt9seXOh2HyVLN474BMxsDVS7XC4RlAIaVGp4zkcWU9gh96m2YyHXCvJzXN275Lax8+jlxjWVGFaaE7VEiHKeaFIRpW1912N5GR2urrl8SvPf0xxMtshGjc7EoI/FKehc0jnwWkRDi/EoYmj7IK/0Wmk50D5HoPZCnyzztCA1WwDtMLAW9irFxT/Ra7GsTeXfvzZ8g80Kn7iBTQo1lk2/rawePvIzuqSxs3wtgiKRiSXLEs+alqjy1cFxM6VzPGoREUSf5NeR2jkmjQ83zP19F36fI8kijcD5q48+9as20w8fIwG5/AYQF/F7FV5MyXAz6Xcq9F4kEu9jvJMSgmI6fjhoGDHKOr4YLaCXIjN6r0aGgM0zDkTBS+W6Rj4zohyR+bcIsawPfltzkRCQOnzAPFuyPw+wP/K5847JoovHrfpOa42KCR2mFj8XjTotVg9gVhzQXKL6RRCMnPjWKpYZtAVq50psVLNTIT5z5nUO6TbHtsNCq/iTrGJfjxPP/oJyt2Yksex7Syd3vWpU8tz4yubo2fnJwDEKDTrRbMh6hWNcNCwGmoIdcoJzLmVc6VQAgNyhmb0yvGf8TjWE6GS5fcPuC8eIJDGHHwHSbF10GBgsNRo8qSUho5v1mgonWyMMHtQhtjqB6GAwbSrA1CTrt+J/oCHv1UcVLWAO1Lo8cF3DcLpbB8kTXrNgcUGmoO+Fs3vYRS14cEYMg4ALqd+Nu9oWQP4azANIW7+LbP23/j1GkAlv2WW/ZeLl/OzVd+c51mgvI2NrLBmrEnUOO6qi3Yqe9shcHgMTPZw+gh0y7IpV0TtS8nX2aRp3EzxlZs84l3xKKa2uRrmK3ZDy9zVDY9S6ntfybUnPD68fN88O9rJofc6wzu6G6naOVkMt0z4THap0xV7dz2/gQV6pW9GlhXomswcEdJ6dOMqbSgDxsRl1VJ42uENxB2ymKYKjMiAo0bUuuUXX1A7f8FowhqFQAzuCaP4pKoFOq2gvh+WsAkP4Mye+2U+a1CRRZ5uuIYxpFWiiCg+YqIXy6txnIPDA9MD03kz5eYDv0eVDSO4BBrCXvvsijc7+zPN42TsSfNO/iczEACQOX13svp0eagDA/KSkW/+pyUl2TGdfD/joHEKXjgEGzWbuqoPcj//LUYSNpn23FyqOOpaXEHYrtXYyrl+1GEKiroxDrIOKVLkIH8xCFTsPRGioGWeOTgSk55RTC0LESEEnXDb4ghPhOGqynOw8JhPoorEsYQBejtUBTuhG7IzE9bx7lA55tTGzJfmkPJM3GaAQtL/1nPRUGJR83PP5t0mBr3d1zmm4JGUfggJj1oxQ+Uz6tA+hHXOGKSQjK6Sza6ovRammQwaYFGrV6PezetMFVU3uT9bazQEBLmaZHbyyHu1daK/QdLCTmTRnQ3f6Ky+pyWXA3tI1JB0zy+SGsOxMWYJeY8aWyNrNHTMM786BIbzU2rpcBdHY5MLbukSj8d5XEO+n4BD2eEU/zlSqgMROLF4DnRThgYQJ0IJZwAgCT2b7UobdUg+VWy8kAHgK2kvmmTyVdgTs51IAr+6rzI/16yc35YvlgfwZyVhC8JVwx38AqPmrdUYRLL3eYOwscFfUbDHr1OzvcciMMNa+0PNrXrBlvfpu9nrpeM6pPjU7SMUYJvbLxU5seh6KOSZOfvjaU0o30d03igg3uf3YsQ0RlMBqMufLSQ6uzt7ZNPL/X99geoyImqZU2nimoxZ3i2kn1RUSjhdvN6G/sOLMMeAncaa0K2QZXbwGr4lNiJap7ZFx5FOw+ml83jnpok/snbs/dI5+/CF71Ds0dsHRkqyaqgduWgPxXZ1VT5zl7RcMKep/ANwEa/bE7aD8hgkJ8QVMK2xBXyhwAtzxGKab9p/5miyKBYSX6E8/Id31JEa8/IOJb/RyDo67OpyN50ZGgCaxkkQpWf3LQfP+D2lkUtP288GrFr+Dmalx6Mjfm16FOZnvLaab4vLJug5Eizw7fI7rNiVXtiKt/YJrokQiibbndwqULxCG5CYRYX3rxpOEm7soDX0is3HCXFPY9zRmvKTDz1IKdK2oPqMeK/Vq+8C/Vf9Tc8Qu2lHkvqjprw26EXRRapS3yl6+byFB7aRkabt5XAZOEAxhvjyROfnIugPKndoFBEZYiTddalnLE0nHLMQpX/mYB39TdCarK5GVcHsEeq/Cxx2lsmpD2Dk6RTkcop85e6JjBmUi2zpCrkMAm9MUyx2scDTkGY0C8pnDxhdQ1yQtcPQdM9YcZcG+HJYPn3VauN5SrlKwTslAACibw/OMGfgg08Z3OsZk5Coy71EAAAABFWElGfgAAAEV4aWYAAE1NACoAAAAIAAUBEgADAAAAAQABAAABGgAFAAAAAQAAAEoBGwAFAAAAAQAAAFIBKAADAAAAAQACAACHaQAEAAAAAQAAAFoAAAAAAAAASAAAAAEAAABIAAAAAQACoAIABAAAAAEAAALQoAMABAAAAAEAAAIcAAAAAA==)"
      ],
      "metadata": {
        "id": "JDxjXqRIYdq3"
      }
    },
    {
      "cell_type": "markdown",
      "source": [
        "## For and while loops\n",
        "\n",
        "So far, we have gone through the basics of python, but even while doing the exercise last week, we immediately relied on if-else statements and loops to answer those questions.\n",
        "\n",
        "I just learnt of the terminology this morning, but a good rule of thumb is the DRY rule (Don't Repeat Yourself)- to make a code efficient."
      ],
      "metadata": {
        "id": "feXqySnnJaw5"
      }
    },
    {
      "cell_type": "markdown",
      "source": [
        "In the following code, can anyone identify if this is breaking the DRY rule?\n",
        "\n",
        "```\n",
        "IF stomach_empty\n",
        "  eat_food()\n",
        "ENDIF\n",
        "//check if stomach is empty again.\n",
        "IF stomach_empty\n",
        "  eat_food()\n",
        "ENDIF\n",
        "//check if stomach is still empty,\n",
        "//....\n",
        "```\n",
        "\n"
      ],
      "metadata": {
        "id": "qQ-sZe-iQjl7"
      }
    },
    {
      "cell_type": "markdown",
      "source": [
        "Also- hi! This is pseudocode. This is writing a code in english words, and then we make it fancy with the correct python terminology."
      ],
      "metadata": {
        "id": "m-MbBBj1RQ5-"
      }
    },
    {
      "cell_type": "markdown",
      "source": [
        "It would be much more efficient to use a loop to keep the code running until there is a reason to break it."
      ],
      "metadata": {
        "id": "3BzyjD6xRDZm"
      }
    },
    {
      "cell_type": "markdown",
      "source": [
        "```\n",
        "WHILE stomach_empty //this code will keep on running if stomach_empty is true\n",
        "  eat_food()\n",
        "ENDWHILE\n",
        "```"
      ],
      "metadata": {
        "id": "3SUfwyyfRN0y"
      }
    },
    {
      "cell_type": "markdown",
      "source": [
        "There are two types of loops- for and while loops. Let's walk through both concepts."
      ],
      "metadata": {
        "id": "qh6ZGSycRlEl"
      }
    },
    {
      "cell_type": "markdown",
      "source": [
        "### For loops\n",
        "\n",
        "The most significant feature of a for loop is that it runs for a preset number of times.\n",
        "\n",
        "The syntax looks like this:\n",
        "\n",
        "```\n",
        "for element in <collection>:\n",
        "  <loop>\n",
        "```\n",
        "\n",
        "The body of the for loop is the place that you can add your conditional statements.\n"
      ],
      "metadata": {
        "id": "zKqnmMTPRjWI"
      }
    },
    {
      "cell_type": "code",
      "execution_count": null,
      "metadata": {
        "id": "i5g4o_XOHrbZ"
      },
      "outputs": [],
      "source": [
        "for i in range(15):\n",
        "  print(i)"
      ]
    },
    {
      "cell_type": "code",
      "source": [
        "for i in range(1, 15):\n",
        "  print(i)"
      ],
      "metadata": {
        "id": "EJrJBYTrSVnW"
      },
      "execution_count": null,
      "outputs": []
    },
    {
      "cell_type": "markdown",
      "source": [
        "# Exercise: Print all even numbers between 1 to 15 using a for loop.\n",
        "\n",
        "Advanced users of python: can you think of more than one way to do this?"
      ],
      "metadata": {
        "id": "oFnnnK7sSgB7"
      }
    },
    {
      "cell_type": "code",
      "source": [
        "# @title the first way\n",
        "for i in range(1,15):\n",
        "  if i % 2 == 0:\n",
        "    print (i)"
      ],
      "metadata": {
        "cellView": "form",
        "id": "g9MB0mupY2C2"
      },
      "execution_count": null,
      "outputs": []
    },
    {
      "cell_type": "code",
      "source": [
        "# @title the second way\n",
        "for i in range(1,15):\n",
        "  if i/2 == i//2:\n",
        "    print (i)"
      ],
      "metadata": {
        "cellView": "form",
        "id": "9qZTsSKQZH64"
      },
      "execution_count": null,
      "outputs": []
    },
    {
      "cell_type": "code",
      "source": [
        "# @title the third way\n",
        "for i in range(1,15):\n",
        "  if (i/2).is_integer():\n",
        "    print (i)"
      ],
      "metadata": {
        "cellView": "form",
        "id": "yBzzTPIsZPYY"
      },
      "execution_count": null,
      "outputs": []
    },
    {
      "cell_type": "markdown",
      "source": [
        "You can also loop through lists of strings!"
      ],
      "metadata": {
        "id": "k_semXLSdPbx"
      }
    },
    {
      "cell_type": "code",
      "source": [
        "rich_folk=[\"Bernard Arnault\", \"Jeff Bezos\", \"Elon Musk\", \"Mark Zuckerburg\"]\n",
        "nameswithM=[]\n",
        "for name in rich_folk:\n",
        "  if \"M\" in name:\n",
        "    nameswithM.append(name)\n",
        "\n",
        "print(nameswithM)"
      ],
      "metadata": {
        "id": "xb2pYnWHdQSe"
      },
      "execution_count": null,
      "outputs": []
    },
    {
      "cell_type": "markdown",
      "source": [
        "## While loops\n",
        "\n",
        "This loops on until a condition is true.\n",
        "\n",
        "Syntax:\n",
        "\n",
        "```\n",
        "while <condition>:\n",
        "  <loops>\n"
      ],
      "metadata": {
        "id": "lF6K8TEMdUEh"
      }
    },
    {
      "cell_type": "code",
      "source": [
        "n = 0\n",
        "\n",
        "while n < 17:\n",
        "  print (n)\n",
        "  n+=1"
      ],
      "metadata": {
        "id": "LtSz95zsdTYm"
      },
      "execution_count": null,
      "outputs": []
    },
    {
      "cell_type": "markdown",
      "source": [
        "## Break and continue\n",
        "\n",
        "\n",
        "There are other statements that can control the flow of the for/while loops.\n",
        "\n"
      ],
      "metadata": {
        "id": "J_4hIczedYdI"
      }
    },
    {
      "cell_type": "code",
      "source": [
        "for i in range(5):\n",
        "    if i == 3:\n",
        "        break\n",
        "    print(i)"
      ],
      "metadata": {
        "id": "Gd_Oo9SBdaP-"
      },
      "execution_count": null,
      "outputs": []
    },
    {
      "cell_type": "code",
      "source": [
        "for i in range(5):\n",
        "    if i == 3:\n",
        "        continue\n",
        "    print(i)"
      ],
      "metadata": {
        "id": "7HSnXamUdb9q"
      },
      "execution_count": null,
      "outputs": []
    },
    {
      "cell_type": "markdown",
      "source": [
        "# Exercise: Write a short guessing game program using a while loop. The user should be prompted to guess a number between 1 and 100, and you should tell them whether their guess was too high or too low after each guess. The loop should keeping running until the user guesses the number correctly."
      ],
      "metadata": {
        "id": "nW7aqvl5dd_i"
      }
    },
    {
      "cell_type": "code",
      "source": [
        "# @title My answer\n",
        "target_number = 17\n",
        "\n",
        "guess = int(input(\"Enter a number: \"))\n",
        "\n",
        "while guess != target_number:\n",
        "    if guess > target_number:\n",
        "        print(\"Too high!\")\n",
        "    else:\n",
        "        print(\"Too low!\")\n",
        "\n",
        "    guess = int(input(\"Enter a number: \"))\n",
        "\n",
        "print(\"You guessed correctly!\")\n"
      ],
      "metadata": {
        "cellView": "form",
        "id": "weZKy6MBdgS-"
      },
      "execution_count": null,
      "outputs": []
    },
    {
      "cell_type": "markdown",
      "source": [
        "# Python Functions\n",
        "\n",
        "We have seen python funcitons before, but I wanted to formally introduce the concept.\n",
        "\n",
        "Just like the R functions we learnt, there are also native functions in python.\n",
        "\n",
        "For eg: len(), range()\n",
        "\n",
        "We can also code our own custom function, which comes in handy in automating repetitive code.\n",
        "\n",
        "\n",
        "Syntax:\n",
        "```\n",
        "def func_name():\n",
        "  function_body\n",
        "```"
      ],
      "metadata": {
        "id": "7BXZH0Q1mrS3"
      }
    },
    {
      "cell_type": "code",
      "source": [
        "def greet():\n",
        "    print('Hello World!')\n",
        "\n",
        "# call the function\n",
        "greet()\n",
        "\n",
        "print('Outside function')"
      ],
      "metadata": {
        "id": "tDI4pZ7yqQ-d"
      },
      "execution_count": null,
      "outputs": []
    },
    {
      "cell_type": "markdown",
      "source": [
        "# Final exercise of the day!\n",
        "\n",
        "\n",
        "Print the Fibonacci sequence up to a user-defined range. Use loops and python functions.\n",
        "\n",
        "\n",
        "Hint: 0 1 1 2 3 5... is the fibonacci sequence"
      ],
      "metadata": {
        "id": "ypArHiSVqhfn"
      }
    },
    {
      "cell_type": "code",
      "source": [
        "# @title My answer\n",
        "def fib_num(range_end):\n",
        "  i=0\n",
        "  fib_seq=[0,1]\n",
        "  while i < range_end - 2:\n",
        "    fib_seq.append(fib_seq[-1]+fib_seq[-2])\n",
        "    i+=1\n",
        "  return(fib_seq)\n",
        "\n",
        "num=int(input(\"Provide range: \"))\n",
        "print(fib_num(num))"
      ],
      "metadata": {
        "colab": {
          "base_uri": "https://localhost:8080/"
        },
        "cellView": "form",
        "id": "t6Zq_OjcrLuN",
        "outputId": "14e74a59-4250-495f-f3c4-8becc141b2fb"
      },
      "execution_count": 29,
      "outputs": [
        {
          "output_type": "stream",
          "name": "stdout",
          "text": [
            "Provide range: 15\n",
            "[0, 1, 1, 2, 3, 5, 8, 13, 21, 34, 55, 89, 144, 233, 377]\n"
          ]
        }
      ]
    },
    {
      "cell_type": "code",
      "source": [
        "# @title My ans\n",
        "def fib_num(range_end):\n",
        "    fib_seq = [0, 1]\n",
        "    for _ in range(range_end - 2):\n",
        "        fib_seq += [fib_seq[-1] + fib_seq[-2]]\n",
        "    return fib_seq\n",
        "\n",
        "num = int(input(\"Provide range: \"))\n",
        "print(fib_num(num))"
      ],
      "metadata": {
        "colab": {
          "base_uri": "https://localhost:8080/"
        },
        "cellView": "form",
        "id": "l4iOUxHltmAD",
        "outputId": "12d66e1e-0abe-4350-8042-5e4690708961"
      },
      "execution_count": 30,
      "outputs": [
        {
          "output_type": "stream",
          "name": "stdout",
          "text": [
            "Provide range: 14\n",
            "[0, 1, 1, 2, 3, 5, 8, 13, 21, 34, 55, 89, 144, 233]\n"
          ]
        }
      ]
    }
  ]
}
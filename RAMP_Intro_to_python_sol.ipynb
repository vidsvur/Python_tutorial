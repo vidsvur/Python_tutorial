{
  "nbformat": 4,
  "nbformat_minor": 0,
  "metadata": {
    "colab": {
      "provenance": [],
      "authorship_tag": "ABX9TyOIfgOp1N9asIBgPU641F+8",
      "include_colab_link": true
    },
    "kernelspec": {
      "name": "python3",
      "display_name": "Python 3"
    },
    "language_info": {
      "name": "python"
    }
  },
  "cells": [
    {
      "cell_type": "markdown",
      "metadata": {
        "id": "view-in-github",
        "colab_type": "text"
      },
      "source": [
        "<a href=\"https://colab.research.google.com/github/vidsvur/Python_tutorial/blob/main/RAMP_Intro_to_python_sol.ipynb\" target=\"_parent\"><img src=\"https://colab.research.google.com/assets/colab-badge.svg\" alt=\"Open In Colab\"/></a>"
      ]
    },
    {
      "cell_type": "markdown",
      "source": [
        "#Introduction\n",
        "\n",
        "\n",
        "1. Welcome to Google colab! Colab runs python on a virtual environment. Any virtual env on Google colab is attached to the user's Google drive.\n",
        "  - Google colab executes python on Google's cloud servers\n",
        "\n",
        "2. We chose Google colab for convenience, but we can run all these scripts on our local machines, and the HPC cluster (Xanadu).\n",
        "\n",
        "If you notice, Google colab has a code and text section, and you can include documentation to your entire code by typing in the text section.\n",
        "\n",
        "Now, let's walk through some terminologies related to Python!"
      ],
      "metadata": {
        "id": "FvErRlINoxl8"
      }
    },
    {
      "cell_type": "markdown",
      "source": [
        "# An example script\n",
        "\n",
        "Let's look at a python script and define some terminologies related to python."
      ],
      "metadata": {
        "id": "Fann5w9no1uA"
      }
    },
    {
      "cell_type": "code",
      "source": [
        "# function with two arguments\n",
        "def add_numbers(num1, num2):\n",
        "    sum = num1 + num2\n",
        "    print(\"Sum: \", sum)\n",
        "\n",
        "# function call with two values\n",
        "add_numbers(5, 4)"
      ],
      "metadata": {
        "id": "ODPZDavEo36f"
      },
      "execution_count": null,
      "outputs": []
    },
    {
      "cell_type": "markdown",
      "source": [
        "1. In this example, what is the name of the function?\n",
        "2. What are the variables in this code snippet?\n",
        "3. What line is the \"comment line\"?\n",
        "\n",
        "\n",
        "Do you notice the indent? Python is actually really particular about these spaces, and you will be met with an error if you do not follow the right indents in your code."
      ],
      "metadata": {
        "id": "c8NykoAKo4V-"
      }
    },
    {
      "cell_type": "markdown",
      "source": [
        "# Python Variables\n",
        "\n",
        "Python doesn't really have an explicit command to declare a variable. You just use \"=\""
      ],
      "metadata": {
        "id": "Xl7xXFbYo8xG"
      }
    },
    {
      "cell_type": "code",
      "source": [
        "x = 5"
      ],
      "metadata": {
        "id": "lL5OE6ylo_bi"
      },
      "execution_count": null,
      "outputs": []
    },
    {
      "cell_type": "markdown",
      "source": [
        "Note that if you just ran the above code i.e, \"x=5\", then you would not get an output.\n",
        " - How would you print the value of the variable?"
      ],
      "metadata": {
        "id": "1L8JXWavo_5u"
      }
    },
    {
      "cell_type": "markdown",
      "source": [
        "You can also assign strings to variables."
      ],
      "metadata": {
        "id": "B9ZMTFXGpE0O"
      }
    },
    {
      "cell_type": "code",
      "source": [
        "y=\"John Doe\"\n",
        "z='John Doe'\n",
        "print(y)\n",
        "y == z"
      ],
      "metadata": {
        "id": "bgfWelsupGpn"
      },
      "execution_count": null,
      "outputs": []
    },
    {
      "cell_type": "markdown",
      "source": [
        "Python doesn't have an explicit command to declare variables, nor do you explicitly declare the type of variable. It just assumes the type from the value assigned to the variable."
      ],
      "metadata": {
        "id": "3zF5Y02CpISJ"
      }
    },
    {
      "cell_type": "code",
      "source": [
        "y = \"John Doe\" #y would be of type str\n",
        "y = 17 #y gets reassigned into int\n",
        "\n",
        "type(y)"
      ],
      "metadata": {
        "id": "YAASAIXIpKCw"
      },
      "execution_count": null,
      "outputs": []
    },
    {
      "cell_type": "markdown",
      "source": [
        "But what if you wanted to force a variable to be a certain type like str or int, you can cast that variable:"
      ],
      "metadata": {
        "id": "wE2BlKtPpLnZ"
      }
    },
    {
      "cell_type": "code",
      "source": [
        "x = str(3)\n",
        "y = int(3)\n",
        "z = float(3)\n",
        "print (x,\",\",y,\",\",z)\n",
        "X = \"hemlocks\"\n",
        "x == X"
      ],
      "metadata": {
        "id": "zrvpSTmupNMT"
      },
      "execution_count": null,
      "outputs": []
    },
    {
      "cell_type": "markdown",
      "source": [
        "If you notice above, variable names are case sensitive. X is a different variable altogether, and did not overwrite x."
      ],
      "metadata": {
        "id": "qBJZA7jwpPsx"
      }
    },
    {
      "cell_type": "markdown",
      "source": [
        "## Legal and illegal variable names\n",
        "\n",
        "You're allowed to be very creative in your variable names. However, there are illegal variables to be wary of."
      ],
      "metadata": {
        "id": "TBCwWep8pSQZ"
      }
    },
    {
      "cell_type": "code",
      "source": [
        "7coolpig = \"Eastern Hemlock\"\n",
        "7-pig = \"Eastern Hemlock\"\n",
        "7 pig = \"Eastern Hemlock\""
      ],
      "metadata": {
        "id": "17R_edDppPf_"
      },
      "execution_count": null,
      "outputs": []
    },
    {
      "cell_type": "markdown",
      "source": [
        "Yeah Python is not happy about that."
      ],
      "metadata": {
        "id": "IQSsXDzgpWCk"
      }
    },
    {
      "cell_type": "code",
      "source": [
        "coolpig7 = \"Piglet is \"\n",
        "pig_7 = \"Pooh's \"\n",
        "PIGSARECOOL = \"best friend\""
      ],
      "metadata": {
        "id": "nboydxBNpXif"
      },
      "execution_count": null,
      "outputs": []
    },
    {
      "cell_type": "markdown",
      "source": [
        "Much better now. 😉"
      ],
      "metadata": {
        "id": "LOePvaEwpa_5"
      }
    },
    {
      "cell_type": "code",
      "source": [
        "print (coolpig7 + pig_7 + PIGSARECOOL)"
      ],
      "metadata": {
        "id": "JAUqqvIJpa0V"
      },
      "execution_count": null,
      "outputs": []
    },
    {
      "cell_type": "markdown",
      "source": [
        "There is a very subtle addition to the end of the strings I added there- coolpig7 ends with an extra space so that when I printed all variables together, it reads as a sentence."
      ],
      "metadata": {
        "id": "i4hGMa-2pec0"
      }
    },
    {
      "cell_type": "code",
      "source": [
        "coolpig7 = \"Piglet is\"\n",
        "pig_7 = \"Pooh's\"\n",
        "PIGSARECOOL = \"best friend\"\n",
        "print (coolpig7 + pig_7 + PIGSARECOOL)"
      ],
      "metadata": {
        "id": "R9ZRwRddpf_l"
      },
      "execution_count": null,
      "outputs": []
    },
    {
      "cell_type": "markdown",
      "source": [
        "There is a way to fix this!"
      ],
      "metadata": {
        "id": "va6VVYn1php-"
      }
    },
    {
      "cell_type": "code",
      "source": [
        "print (coolpig7 + \" \" + pig_7 + \" \" + PIGSARECOOL)"
      ],
      "metadata": {
        "id": "1NKH6hpqpiB3"
      },
      "execution_count": null,
      "outputs": []
    },
    {
      "cell_type": "markdown",
      "source": [
        "What would happen if you print() a variable and string together?"
      ],
      "metadata": {
        "id": "jJToALjvplpe"
      }
    },
    {
      "cell_type": "code",
      "source": [
        "print(\"Hi\" + 5)"
      ],
      "metadata": {
        "id": "nIp_6oEbpnXR"
      },
      "execution_count": null,
      "outputs": []
    },
    {
      "cell_type": "markdown",
      "source": [
        "Yeah- Unhappy!"
      ],
      "metadata": {
        "id": "dGsrLpWmpowX"
      }
    },
    {
      "cell_type": "code",
      "source": [
        "print (\"Hi\" + \"5\")"
      ],
      "metadata": {
        "id": "jsON-6btpq_v"
      },
      "execution_count": null,
      "outputs": []
    },
    {
      "cell_type": "markdown",
      "source": [
        "## Global Variables\n",
        "\n",
        "For context, let's define/ensure we know what a function is.\n",
        "\n",
        " - what _is_ a function?\n",
        "\n",
        " We were using a function all this while to print our code- `print()`\n",
        "\n",
        " Now, let's look at the example script again."
      ],
      "metadata": {
        "id": "GMaPEC3gpt_W"
      }
    },
    {
      "cell_type": "code",
      "source": [
        "magic_num = 7\n",
        "\n",
        "def add_numbers(num1, num2):\n",
        "    sum = num1 + num2\n",
        "    if sum == magic_num:\n",
        "      print(\"you got the magic number!\")\n",
        "    else:\n",
        "      print(\"Sum: \", sum)\n",
        "\n",
        "\n",
        "# function call with two values\n",
        "add_numbers(5, 4)\n",
        "add_numbers(3, 4)"
      ],
      "metadata": {
        "id": "DlQtCCPYpvw7"
      },
      "execution_count": null,
      "outputs": []
    },
    {
      "cell_type": "markdown",
      "source": [
        "In this code snippet, which variable do you think is the global variable?\n",
        "\n",
        "which variable is the local variable?\n",
        "\n",
        "you can make a local variable into a global variable by using global <variable>"
      ],
      "metadata": {
        "id": "_Dd1Y8Dcpyp8"
      }
    },
    {
      "cell_type": "markdown",
      "source": [
        "# Arithmetic and Boolean operators\n",
        "\n",
        "Let's look at basic arithmetic and boolean operators.\n"
      ],
      "metadata": {
        "id": "2acfPplIp0xF"
      }
    },
    {
      "cell_type": "markdown",
      "source": [
        "## Arithmetic operators\n",
        "\n",
        "| Operator | Name | Example |\n",
        "| -- | -- | -- |\n",
        "| + | Addition | x + y |\n",
        "| - | Subtraction | x - y|\n",
        "| * | Multiplication | x * y |\n",
        "| / | Division | x/y |\n",
        "| % | Modulus | x % y |\n",
        "| ** | Exponentiation | x ** y |"
      ],
      "metadata": {
        "id": "AbxFaGWGp2c7"
      }
    },
    {
      "cell_type": "code",
      "source": [
        "# Let's declare x and y to be 5 and 4\n",
        "\n",
        "x = 5\n",
        "y= 4\n",
        "\n",
        "# Additon\n",
        "print (x+y)\n",
        "# Subtraction\n",
        "print (x-y)\n",
        "# Multiplication\n",
        "print (x * y)\n",
        "# Division\n",
        "print (x/y)\n",
        "# Modulus\n",
        "print (x % y)\n",
        "# Exponentiation\n",
        "print (x ** y)"
      ],
      "metadata": {
        "id": "9LcJK5Bhp4NY"
      },
      "execution_count": null,
      "outputs": []
    },
    {
      "cell_type": "markdown",
      "source": [
        "## Boolean Operators\n"
      ],
      "metadata": {
        "id": "g7YZn-llp6Gd"
      }
    },
    {
      "cell_type": "markdown",
      "source": [
        "### And, Or, Not\n",
        "\n",
        "| Operation | Result |\n",
        "| -- | -- |\n",
        "| `x or y` | if x is true, then x, else y |\n",
        "| `x and y` | if x is false, then x, else y |\n",
        "| `not x` | if x is false, then True, else False |"
      ],
      "metadata": {
        "id": "Xc6EruBIp8IB"
      }
    },
    {
      "cell_type": "code",
      "source": [
        "x = 5\n",
        "y = 4\n",
        "\n",
        "if x==5 or y==5:\n",
        "  print(True)\n",
        "else:\n",
        "  print (False)\n",
        "\n",
        "if x==5 and y==5:\n",
        "  print(True)\n",
        "else:\n",
        "  print (False)\n",
        "\n",
        "if not x == 4:\n",
        "  print (\"x is not equal to 4\")"
      ],
      "metadata": {
        "id": "DkwWA_-8p95c"
      },
      "execution_count": null,
      "outputs": []
    },
    {
      "cell_type": "markdown",
      "source": [
        "### Comparisons\n",
        "\n",
        "| Operation | Meaning |\n",
        "| -- | -- |\n",
        "| `<` | less than |\n",
        "| `>` | greater than |\n",
        "| `<=` | less than or equal to |\n",
        "| `>=` | greater than or equal to |\n",
        "| `==` | equal |\n",
        "| `!=` | not equal |\n",
        "|  `is` | identity |\n",
        "| `is not` | negated identity|"
      ],
      "metadata": {
        "id": "NM2xqqhTqBeB"
      }
    },
    {
      "cell_type": "code",
      "source": [
        "x = 5\n",
        "y = 4\n",
        "\n",
        "if x > y:\n",
        "  print(True)\n",
        "else:\n",
        "  print (False)\n",
        "\n",
        "if x < y:\n",
        "  print(True)\n",
        "else:\n",
        "  print(False)\n",
        "\n",
        "if x is not y:\n",
        "  print(\"x is not equal to 4\")"
      ],
      "metadata": {
        "id": "5__ORgZ-qC8_"
      },
      "execution_count": null,
      "outputs": []
    },
    {
      "cell_type": "markdown",
      "source": [
        "QUESTION: What happens if you run if x is not 4 instead?"
      ],
      "metadata": {
        "id": "mepVi1yVqFjx"
      }
    },
    {
      "cell_type": "markdown",
      "source": [
        "# Lists and Dictionaries\n",
        "\n",
        "We're slowly setting ourselves up with all the basics to run loop commands, and eventually set up functions.\n",
        "An important step before we get into loop commands is to get familiar with lists and dictionaries."
      ],
      "metadata": {
        "id": "xRUrPdLcqHS1"
      }
    },
    {
      "cell_type": "markdown",
      "source": [
        "## Lists (and tuples)\n",
        "\n",
        "_Lists_ are just lists of strings, integers, or both. Tuples are the same, but the biggest difference is that tuples are not mutable."
      ],
      "metadata": {
        "id": "oKP5lfLCqJOt"
      }
    },
    {
      "cell_type": "code",
      "source": [
        "my_first_list=[\"bluesky\",\"mastadon\",\"twitter\"]"
      ],
      "metadata": {
        "id": "oFe5dRorqKxJ"
      },
      "execution_count": null,
      "outputs": []
    },
    {
      "cell_type": "markdown",
      "source": [
        "Given our journey with R, and what we learnt with the print () above, can you generate a code to print \"bluesky is better than mastodon\"?"
      ],
      "metadata": {
        "id": "Mb71cVWaqMlv"
      }
    },
    {
      "cell_type": "markdown",
      "source": [
        "Lists are handy, and you can add and remove to the lists, modify, and splice them!"
      ],
      "metadata": {
        "id": "Pgp5nfbKqPP6"
      }
    },
    {
      "cell_type": "code",
      "source": [
        "my_first_list.append(\"linkedin\")\n",
        "print(my_first_list)"
      ],
      "metadata": {
        "id": "k815aL4DqRSp"
      },
      "execution_count": null,
      "outputs": []
    },
    {
      "cell_type": "code",
      "source": [
        "my_first_list.remove(\"twitter\")\n",
        "print(my_first_list)"
      ],
      "metadata": {
        "id": "Dn4d0pcLqSiq"
      },
      "execution_count": null,
      "outputs": []
    },
    {
      "cell_type": "code",
      "source": [
        "my_first_list.sort()\n",
        "print(my_first_list)"
      ],
      "metadata": {
        "id": "w-Kq_bb7qTyL"
      },
      "execution_count": null,
      "outputs": []
    },
    {
      "cell_type": "code",
      "source": [
        "my_first_list[-1]"
      ],
      "metadata": {
        "id": "8SagStPfqVPI"
      },
      "execution_count": null,
      "outputs": []
    },
    {
      "cell_type": "code",
      "source": [
        "my_first_list[0]"
      ],
      "metadata": {
        "id": "R1s1DpNWqWfe"
      },
      "execution_count": null,
      "outputs": []
    },
    {
      "cell_type": "code",
      "source": [
        "my_first_list"
      ],
      "metadata": {
        "id": "3SnCyV2iqXlJ"
      },
      "execution_count": null,
      "outputs": []
    },
    {
      "cell_type": "code",
      "source": [
        "my_first_list[1:-1] == my_first_list[1:2]"
      ],
      "metadata": {
        "id": "CSUGka-AqY6w"
      },
      "execution_count": null,
      "outputs": []
    },
    {
      "cell_type": "markdown",
      "source": [
        "## Tuples\n",
        "\n",
        "Tuples are just like lists, just less flexible with what you can do with them."
      ],
      "metadata": {
        "id": "MuMFHymwqbyr"
      }
    },
    {
      "cell_type": "code",
      "source": [
        "my_first_tuple = (1,1,2,3,5,8)"
      ],
      "metadata": {
        "id": "AL-sxdZJqdJZ"
      },
      "execution_count": null,
      "outputs": []
    },
    {
      "cell_type": "code",
      "source": [
        "my_first_tuple[0]"
      ],
      "metadata": {
        "id": "VZlA9mV2qe_r"
      },
      "execution_count": null,
      "outputs": []
    },
    {
      "cell_type": "code",
      "source": [
        "my_first_tuple[4] = 9"
      ],
      "metadata": {
        "id": "M9cys7EwqgPU"
      },
      "execution_count": null,
      "outputs": []
    },
    {
      "cell_type": "markdown",
      "source": [
        "yeah- the tuple doesn't like that."
      ],
      "metadata": {
        "id": "XvzLIq3TqjHa"
      }
    },
    {
      "cell_type": "markdown",
      "source": [
        "## Dictionaries\n",
        "\n",
        " Dictionaries allow users to store data in key:value pairs."
      ],
      "metadata": {
        "id": "cnRcVLabqkyu"
      }
    },
    {
      "cell_type": "code",
      "source": [
        "#create a LOTR dictionary\n",
        "LOTR_dict = {\n",
        "    \"Frodo Baggins\": \"Hobbit\",\n",
        "    \"Eowyn\": \"Noblewoman\",\n",
        "    \"Gandalf\": \"Wizard\"\n",
        "}\n",
        "\n",
        "# Display the dictionary\n",
        "print(LOTR_dict)"
      ],
      "metadata": {
        "id": "WX7iRWr-qmQN"
      },
      "execution_count": null,
      "outputs": []
    },
    {
      "cell_type": "code",
      "source": [
        "LOTR_dict['Gandalf']"
      ],
      "metadata": {
        "id": "5CZkqPTpqnkX"
      },
      "execution_count": null,
      "outputs": []
    },
    {
      "cell_type": "code",
      "source": [
        "LOTR_dict[\"Gandalf\"]"
      ],
      "metadata": {
        "id": "PLj57Fl6qpEK"
      },
      "execution_count": null,
      "outputs": []
    },
    {
      "cell_type": "code",
      "source": [
        "print(LOTR_dict.items())"
      ],
      "metadata": {
        "id": "THYQoDGlqqGH"
      },
      "execution_count": null,
      "outputs": []
    },
    {
      "cell_type": "code",
      "source": [
        "print(LOTR_dict.keys())"
      ],
      "metadata": {
        "id": "29H0V1YqqrOl"
      },
      "execution_count": null,
      "outputs": []
    },
    {
      "cell_type": "code",
      "source": [
        "print(LOTR_dict.values())"
      ],
      "metadata": {
        "id": "7yb5aiIfqsqK"
      },
      "execution_count": null,
      "outputs": []
    },
    {
      "cell_type": "markdown",
      "source": [
        "# Exercise!\n",
        "\n",
        "\n",
        "1. Create a list of 5 elements that consists of numbers. (e.g., `[1,2,3,4,5]`)\n",
        "\n",
        "2. Calculate the sum of all of these numbers. (If you are used to python, feel free to use for loops!)\n",
        "\n",
        "3. Create a dictionary of key-value pairs that lists the name, age, and city of a person. (e.g., `\"name\": \"John\", \"age\": 30, \"city\": \"New York\"`)\n",
        "\n",
        "4. Print the value of age from the dicitonary. (i.e, \"The value of the 'age' key:  \")\n",
        "\n",
        "5. Add a new key-value pair to this dicitonary (like, country?)\n",
        "\n",
        "6. Print the updated dictionary\n",
        "\n",
        "7. Delete the city key from the dictionary\n",
        "\n",
        "8. Print the updated dicitonary\n",
        "\n",
        "9. Use `if-else` to check if age still exists in your dictionary\n",
        "\n",
        "\n",
        "Post your output on Slack 😉\n",
        "\n"
      ],
      "metadata": {
        "id": "iUL6rbblqu2q"
      }
    },
    {
      "cell_type": "code",
      "source": [
        "# @title Answer\n",
        "# Create a list of numbers\n",
        "numbers = [1, 2, 3, 4, 5]\n",
        "\n",
        "# Calculate the sum of the numbers in the list\n",
        "sum = 0\n",
        "for number in numbers:\n",
        "    sum += number\n",
        "\n",
        "# Print the sum of the numbers\n",
        "print(\"The sum of the numbers is:\", sum)\n",
        "\n",
        "# Create a dictionary of key-value pairs\n",
        "my_dict = {\"name\": \"John\", \"age\": 30, \"city\": \"New York\"}\n",
        "\n",
        "# Print the value of the \"age\" key\n",
        "print(\"The value of the 'age' key is:\", my_dict[\"age\"])\n",
        "\n",
        "# Add a new key-value pair to the dictionary\n",
        "my_dict[\"country\"] = \"USA\"\n",
        "\n",
        "# Print the updated dictionary\n",
        "print(\"The updated dictionary is:\", my_dict)\n",
        "\n",
        "# Remove the \"city\" key from the dictionary\n",
        "del my_dict[\"city\"]\n",
        "\n",
        "# Print the updated dictionary\n",
        "print(\"The updated dictionary is:\", my_dict)"
      ],
      "metadata": {
        "cellView": "form",
        "id": "_21pNMgK4KUy"
      },
      "execution_count": null,
      "outputs": []
    },
    {
      "cell_type": "markdown",
      "source": [
        "In this tutorial, we will go over the basics of for and while loops, and look at python functions. We will then work on a problem together (use pseudocode), which would introduce us to how to write a complete python script, and then we will try an exercise.\n",
        "\n",
        "We will then look at how to import a library, such as numpy, and start with an introduction to arrays.\n",
        "\n",
        "For and while loops\n",
        "So far, we have gone through the basics of python, but even while doing the exercise last week, we immediately relied on if-else statements and loops to answer those questions.\n",
        "\n",
        "I just learnt of the terminology this morning, but a good rule of thumb is the DRY rule (Don't Repeat Yourself)- to make a code efficient.\n",
        "\n",
        "In the following code, can anyone identify if this is breaking the DRY rule?\n",
        "\n"
      ],
      "metadata": {
        "id": "bgbuMvMop0e2"
      }
    },
    {
      "cell_type": "code",
      "source": [
        "IF stomach_empty\n",
        "  eat_food()\n",
        "ENDIF\n",
        "//check if stomach is empty again.\n",
        "IF stomach_empty\n",
        "  eat_food()\n",
        "ENDIF\n",
        "//check if stomach is still empty,\n",
        "//...."
      ],
      "metadata": {
        "id": "vAP_hlQIqFIL"
      },
      "execution_count": null,
      "outputs": []
    },
    {
      "cell_type": "markdown",
      "source": [
        "Also- hi! This is pseudocode. This is writing a code in english words, and then we make it fancy with the correct python terminology.\n",
        "\n",
        "It would be much more efficient to use a loop to keep the code running until there is a reason to break it."
      ],
      "metadata": {
        "id": "n5tu4-IMqJbd"
      }
    },
    {
      "cell_type": "code",
      "source": [
        "WHILE stomach_empty //this code will keep on running if stomach_empty is true\n",
        "  eat_food()\n",
        "ENDWHILE"
      ],
      "metadata": {
        "id": "mWVE6QNZqPWH"
      },
      "execution_count": null,
      "outputs": []
    },
    {
      "cell_type": "markdown",
      "source": [
        "There are two types of loops- for and while loops. Let's walk through both concepts.\n",
        "\n",
        "For loops\n",
        "The most significant feature of a for loop is that it runs for a preset number of times.\n",
        "\n",
        "The syntax looks like this:"
      ],
      "metadata": {
        "id": "qQRvcAg0qTAf"
      }
    },
    {
      "cell_type": "code",
      "source": [
        "for element in <collection>:\n",
        "  <loop>"
      ],
      "metadata": {
        "id": "X6DMQ6dqqX7E"
      },
      "execution_count": null,
      "outputs": []
    },
    {
      "cell_type": "markdown",
      "source": [
        "The body of the for loop is the place that you can add your conditional statements."
      ],
      "metadata": {
        "id": "CvKHmGqzqd65"
      }
    },
    {
      "cell_type": "code",
      "source": [
        "for i in range(15):\n",
        "  print(i)\n",
        "\n",
        "for i in range(1, 15):\n",
        "  print(i)"
      ],
      "metadata": {
        "id": "6hBP10k5qp_V"
      },
      "execution_count": null,
      "outputs": []
    },
    {
      "cell_type": "markdown",
      "source": [
        "\n",
        "\n",
        "Exercise: Print all even numbers between 1 to 15 using a for loop.\n",
        "Advanced users of python: can you think of more than one way to do this?\n",
        "\n",
        "Hint: The first tutorial has all the answers. To life. 🧘\n",
        "\n",
        "You can also loop through lists of strings!"
      ],
      "metadata": {
        "id": "ohMdGZU4qtQa"
      }
    },
    {
      "cell_type": "code",
      "source": [
        "# @title the first way\n",
        "for i in range(1,15):\n",
        "  if i % 2 == 0:\n",
        "    print (i)"
      ],
      "metadata": {
        "cellView": "form",
        "id": "JYjw7f4L36Co"
      },
      "execution_count": null,
      "outputs": []
    },
    {
      "cell_type": "code",
      "source": [
        "# @title the second way\n",
        "for i in range(1,15):\n",
        "  if i/2 == i//2:\n",
        "    print (i)"
      ],
      "metadata": {
        "cellView": "form",
        "id": "lX-lBeX137dh"
      },
      "execution_count": null,
      "outputs": []
    },
    {
      "cell_type": "code",
      "source": [
        "# @title the third way\n",
        "for i in range(1,15):\n",
        "  if (i/2).is_integer():\n",
        "    print (i)"
      ],
      "metadata": {
        "cellView": "form",
        "id": "wmFzjgNF3-Ec"
      },
      "execution_count": null,
      "outputs": []
    },
    {
      "cell_type": "code",
      "source": [
        "rich_folk=[\"Bernard Arnault\", \"Jeff Bezos\", \"Elon Musk\", \"Mark Zuckerburg\"]\n",
        "nameswithM=[]\n",
        "for name in rich_folk:\n",
        "  if \"M\" in name:\n",
        "    nameswithM.append(name)\n",
        "\n",
        "print(nameswithM)\n",
        "['Elon Musk', 'Mark Zuckerburg']\n"
      ],
      "metadata": {
        "id": "N3TBSLLOq513"
      },
      "execution_count": null,
      "outputs": []
    },
    {
      "cell_type": "markdown",
      "source": [
        "# While Loops\n",
        "\n",
        "This loops on until a condition is true."
      ],
      "metadata": {
        "id": "X9M6UDBRrAAM"
      }
    },
    {
      "cell_type": "code",
      "source": [
        "while <condition>:\n",
        "  <loops>"
      ],
      "metadata": {
        "id": "r9iGNnMCrQcf"
      },
      "execution_count": null,
      "outputs": []
    },
    {
      "cell_type": "markdown",
      "source": [
        "An example:\n"
      ],
      "metadata": {
        "id": "JHzh8Tt_rbMx"
      }
    },
    {
      "cell_type": "code",
      "source": [
        "n = 0\n",
        "while n < 17:\n",
        "  print (n)\n",
        "  n+=1"
      ],
      "metadata": {
        "id": "s6mq0vsVre8F"
      },
      "execution_count": null,
      "outputs": []
    },
    {
      "cell_type": "markdown",
      "source": [
        "#Break and continue\n",
        "There are other statements that can control the flow of the for/while loops."
      ],
      "metadata": {
        "id": "Ob6jXnIDrYg5"
      }
    },
    {
      "cell_type": "code",
      "source": [
        "for i in range(5):\n",
        "    if i == 3:\n",
        "        break\n",
        "    print(i)\n",
        "\n",
        "for i in range(5):\n",
        "    if i == 3:\n",
        "        continue\n",
        "    print(i)"
      ],
      "metadata": {
        "id": "xMV4qga8rmLt"
      },
      "execution_count": null,
      "outputs": []
    },
    {
      "cell_type": "markdown",
      "source": [
        "# Basic python tutorial with genes"
      ],
      "metadata": {
        "id": "VfUFaEK9umZa"
      }
    },
    {
      "cell_type": "markdown",
      "source": [
        "Install biopython.."
      ],
      "metadata": {
        "id": "AKJ2GjzYvXnL"
      }
    },
    {
      "cell_type": "code",
      "source": [
        "!pip install biopython"
      ],
      "metadata": {
        "id": "1RdPU81fvZX8"
      },
      "execution_count": null,
      "outputs": []
    },
    {
      "cell_type": "code",
      "source": [
        "from Bio.Seq import Seq\n",
        "\n",
        "# Create a DNA sequence\n",
        "my_dna = Seq(\"ATGC\")\n",
        "\n",
        "# Print the sequence\n",
        "print(\"My DNA:\", my_dna)\n",
        "\n",
        "# Print the complement\n",
        "print(\"Complement:\", my_dna.complement())\n",
        "\n",
        "# Print reverse complement\n",
        "print(\"Reverse complement:\", my_dna.reverse_complement())"
      ],
      "metadata": {
        "id": "1nE5KDVQul-U",
        "colab": {
          "base_uri": "https://localhost:8080/"
        },
        "outputId": "43cd91fe-2561-4fd8-ca0f-005f784db014"
      },
      "execution_count": 6,
      "outputs": [
        {
          "output_type": "stream",
          "name": "stdout",
          "text": [
            "My DNA: ATGC\n",
            "Complement: TACG\n",
            "Reverse complement: GCAT\n"
          ]
        }
      ]
    },
    {
      "cell_type": "markdown",
      "source": [
        "# Bringing to the cluster!!!"
      ],
      "metadata": {
        "id": "nZi6b7tYrrBj"
      }
    },
    {
      "cell_type": "markdown",
      "source": [
        "Make a new file, name it whatever you'd like, with `.py` as the extension."
      ],
      "metadata": {
        "id": "WxCz5VEty6pb"
      }
    },
    {
      "cell_type": "code",
      "source": [
        "# Import BioPython tools\n",
        "from Bio import SeqIO\n",
        "from Bio.SeqUtils import GC\n",
        "\n",
        "# Read the genome file\n",
        "for record in SeqIO.parse(\"mink_genome.fna\", \"fasta\"):\n",
        "    # Look at first sequence only\n",
        "    print(\"Sequence name:\", record.id)\n",
        "    print(\"Sequence length:\", len(record.seq))\n",
        "    print(\"GC content:\", GC(record.seq))\n",
        "    break  # Stop after first sequence"
      ],
      "metadata": {
        "id": "om3SSUdEzABM"
      },
      "execution_count": null,
      "outputs": []
    },
    {
      "cell_type": "markdown",
      "source": [
        "let's run this on the cluster now!"
      ],
      "metadata": {
        "id": "N2JYl4XOzI4p"
      }
    },
    {
      "cell_type": "markdown",
      "source": [
        "Exercise 1: count the numbers of As, Ts, Gs, and Cs in the mink genome. Use this link for help: https://pythonforbiologists.com/tutorial/dictionaries.html"
      ],
      "metadata": {
        "id": "iE1SiJ6yziSp"
      }
    },
    {
      "cell_type": "markdown",
      "source": [
        "How would you use the same function ot count start codons (ATG)?"
      ],
      "metadata": {
        "id": "irCmbum72A6g"
      }
    },
    {
      "cell_type": "code",
      "source": [
        "# @title Answers\n",
        "from Bio import SeqIO\n",
        "\n",
        "# Open genome file\n",
        "for record in SeqIO.parse(\"mink_genome.fna\", \"fasta\"):\n",
        "    # Get the sequence\n",
        "    dna = record.seq\n",
        "\n",
        "    # Count bases\n",
        "    print(\"A:\", dna.count(\"A\"))\n",
        "    print(\"T:\", dna.count(\"T\"))\n",
        "    print(\"G:\", dna.count(\"G\"))\n",
        "    print(\"C:\", dna.count(\"C\"))\n",
        "    break  # Stop after first sequence"
      ],
      "metadata": {
        "cellView": "form",
        "id": "QdWbif8m4bHC"
      },
      "execution_count": null,
      "outputs": []
    },
    {
      "cell_type": "code",
      "source": [
        "# @title Ans2\n",
        "from Bio import SeqIO\n",
        "\n",
        "# Open genome file\n",
        "for record in SeqIO.parse(\"mink_genome.fna\", \"fasta\"):\n",
        "    # Get the sequence\n",
        "    dna = record.seq\n",
        "\n",
        "    # Count ATG\n",
        "    starts = dna.count(\"ATG\")\n",
        "    print(\"Found\", starts, \"start codons\")\n",
        "    break  # Stop after first sequence"
      ],
      "metadata": {
        "cellView": "form",
        "id": "XAgCofQS478r"
      },
      "execution_count": null,
      "outputs": []
    }
  ]
}
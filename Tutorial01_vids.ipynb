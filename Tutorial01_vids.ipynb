{
  "nbformat": 4,
  "nbformat_minor": 0,
  "metadata": {
    "colab": {
      "provenance": [],
      "toc_visible": true,
      "mount_file_id": "1uW2edgQmPo0iArz4FWtYGvT2RR43YtEx",
      "authorship_tag": "ABX9TyMKlUesbeV2zHL0hIsttopE",
      "include_colab_link": true
    },
    "kernelspec": {
      "name": "python3",
      "display_name": "Python 3"
    },
    "language_info": {
      "name": "python"
    }
  },
  "cells": [
    {
      "cell_type": "markdown",
      "metadata": {
        "id": "view-in-github",
        "colab_type": "text"
      },
      "source": [
        "<a href=\"https://colab.research.google.com/github/vidsvur/Python_tutorial/blob/main/Tutorial01_vids.ipynb\" target=\"_parent\"><img src=\"https://colab.research.google.com/assets/colab-badge.svg\" alt=\"Open In Colab\"/></a>"
      ]
    },
    {
      "cell_type": "markdown",
      "source": [
        "#Introduction\n",
        "\n",
        "\n",
        "1. Welcome to Google colab! Colab runs python on a virtual environment. Any virtual env on Google colab is attached to the user's Google drive.\n",
        "  - Google colab executes python on Google's cloud servers\n",
        "\n",
        "2. We chose Google colab for convenience, but we can run all these scripts on our local machines, and the HPC cluster (Xanadu).\n",
        "\n",
        "If you notice, Google colab has a code and text section, and you can include documentation to your entire code by typing in the text section.\n",
        "\n",
        "Now, let's walk through some terminologies related to Python!"
      ],
      "metadata": {
        "id": "itOQglnAG5Ln"
      }
    },
    {
      "cell_type": "markdown",
      "source": [
        "# An example script\n",
        "\n",
        "Let's look at a python script and define some terminologies related to python."
      ],
      "metadata": {
        "id": "jEbFryeiJn-I"
      }
    },
    {
      "cell_type": "code",
      "source": [
        "# function with two arguments\n",
        "def add_numbers(num1, num2):\n",
        "    sum = num1 + num2\n",
        "    print(\"Sum: \", sum)\n",
        "\n",
        "# function call with two values\n",
        "add_numbers(5, 4)"
      ],
      "metadata": {
        "colab": {
          "base_uri": "https://localhost:8080/"
        },
        "id": "f71-D5gAJtcd",
        "outputId": "861e07e6-d69f-4ec4-e65e-2656c4d82a79"
      },
      "execution_count": null,
      "outputs": [
        {
          "output_type": "stream",
          "name": "stdout",
          "text": [
            "Sum:  9\n"
          ]
        }
      ]
    },
    {
      "cell_type": "markdown",
      "source": [
        "1. In this example, what is the name of the function?\n",
        "2. What are the variables in this code snippet?\n",
        "3. What line is the \"comment line\"?\n",
        "\n",
        "\n",
        "Do you notice the indent? Python is actually really particular about these spaces, and you will be met with an error if you do not follow the right indents in your code."
      ],
      "metadata": {
        "id": "_sVjy8YdKRNC"
      }
    },
    {
      "cell_type": "markdown",
      "source": [
        "# Python Variables\n",
        "\n",
        "Python doesn't really have an explicit command to declare a variable. You just use \"=\"\n"
      ],
      "metadata": {
        "id": "FtoofjfRLfC3"
      }
    },
    {
      "cell_type": "code",
      "source": [
        "x = 5"
      ],
      "metadata": {
        "id": "eCnlf9gfL2KY"
      },
      "execution_count": null,
      "outputs": []
    },
    {
      "cell_type": "markdown",
      "source": [
        "Note that if you just ran the above code i.e, \"x=5\", then you would not get an output.\n",
        " - How would you print the value of the variable?"
      ],
      "metadata": {
        "id": "q3Mc6bPQL5uf"
      }
    },
    {
      "cell_type": "markdown",
      "source": [
        "You can also assign strings to variables."
      ],
      "metadata": {
        "id": "i2jzcEGCMMmw"
      }
    },
    {
      "cell_type": "code",
      "source": [
        "y=\"John Doe\"\n",
        "z='John Doe'\n",
        "print(y)\n",
        "y == z"
      ],
      "metadata": {
        "colab": {
          "base_uri": "https://localhost:8080/"
        },
        "id": "zAdALVPeMSgm",
        "outputId": "562c8f05-c4ea-4798-f848-ffd88657f158"
      },
      "execution_count": null,
      "outputs": [
        {
          "output_type": "stream",
          "name": "stdout",
          "text": [
            "John Doe\n"
          ]
        },
        {
          "output_type": "execute_result",
          "data": {
            "text/plain": [
              "True"
            ]
          },
          "metadata": {},
          "execution_count": 6
        }
      ]
    },
    {
      "cell_type": "markdown",
      "source": [
        "Python doesn't have an explicit command to declare variables, nor do you explicitly declare the _type_ of variable. It just assumes the type from the value assigned to the variable."
      ],
      "metadata": {
        "id": "Mzi7AnSQMhRc"
      }
    },
    {
      "cell_type": "code",
      "source": [
        "y = \"John Doe\" #y would be of type str\n",
        "y = 17 #y gets reassigned into int\n",
        "\n",
        "type(y)"
      ],
      "metadata": {
        "colab": {
          "base_uri": "https://localhost:8080/"
        },
        "id": "9FIvH67MMx9b",
        "outputId": "a6b3de2d-3219-4c90-ecc1-1b3cc1425851"
      },
      "execution_count": null,
      "outputs": [
        {
          "output_type": "execute_result",
          "data": {
            "text/plain": [
              "int"
            ]
          },
          "metadata": {},
          "execution_count": 8
        }
      ]
    },
    {
      "cell_type": "markdown",
      "source": [
        "But what if you wanted to force a variable to be a certain _type_ like str or int, you can cast that variable:"
      ],
      "metadata": {
        "id": "hJkcClX6NCof"
      }
    },
    {
      "cell_type": "code",
      "source": [
        "x = str(3)\n",
        "y = int(3)\n",
        "z = float(3)\n",
        "print (x,\",\",y,\",\",z)\n",
        "X = \"hemlocks\"\n",
        "x == X"
      ],
      "metadata": {
        "colab": {
          "base_uri": "https://localhost:8080/"
        },
        "id": "x8PIcysKN4AA",
        "outputId": "14b91689-67d9-4c7f-9040-2236cf7da75f"
      },
      "execution_count": null,
      "outputs": [
        {
          "output_type": "stream",
          "name": "stdout",
          "text": [
            "3 , 3 , 3.0\n"
          ]
        },
        {
          "output_type": "execute_result",
          "data": {
            "text/plain": [
              "False"
            ]
          },
          "metadata": {},
          "execution_count": 15
        }
      ]
    },
    {
      "cell_type": "markdown",
      "source": [
        "If you notice above, variable names are case sensitive. X is a different variable altogether, and did not overwrite x."
      ],
      "metadata": {
        "id": "LoLatUQ9Oez8"
      }
    },
    {
      "cell_type": "markdown",
      "source": [
        "## Legal and illegal variable names\n",
        "\n",
        "You're allowed to be very creative in your variable names. However, there are illegal variables to be wary of."
      ],
      "metadata": {
        "id": "TVaLJui7Or4r"
      }
    },
    {
      "cell_type": "code",
      "source": [
        "7coolpig = \"Eastern Hemlock\"\n",
        "7-pig = \"Eastern Hemlock\"\n",
        "7 pig = \"Eastern Hemlock\""
      ],
      "metadata": {
        "colab": {
          "base_uri": "https://localhost:8080/",
          "height": 106
        },
        "id": "4VN7swW-O4w_",
        "outputId": "12abd938-7e13-4c00-b564-6a8740f79607"
      },
      "execution_count": null,
      "outputs": [
        {
          "output_type": "error",
          "ename": "SyntaxError",
          "evalue": "invalid decimal literal (<ipython-input-16-477abd547171>, line 1)",
          "traceback": [
            "\u001b[0;36m  File \u001b[0;32m\"<ipython-input-16-477abd547171>\"\u001b[0;36m, line \u001b[0;32m1\u001b[0m\n\u001b[0;31m    7coolpig = \"Eastern Hemlock\"\u001b[0m\n\u001b[0m    ^\u001b[0m\n\u001b[0;31mSyntaxError\u001b[0m\u001b[0;31m:\u001b[0m invalid decimal literal\n"
          ]
        }
      ]
    },
    {
      "cell_type": "markdown",
      "source": [
        "Yeah Python is not happy about that."
      ],
      "metadata": {
        "id": "htOL8nkcPDJg"
      }
    },
    {
      "cell_type": "code",
      "source": [
        "coolpig7 = \"Piglet is \"\n",
        "pig_7 = \"Pooh's \"\n",
        "PIGSARECOOL = \"best friend\""
      ],
      "metadata": {
        "id": "m-lC2XPhPC29"
      },
      "execution_count": null,
      "outputs": []
    },
    {
      "cell_type": "markdown",
      "source": [
        "Much better now. 😉\n"
      ],
      "metadata": {
        "id": "627cDmvNPR4d"
      }
    },
    {
      "cell_type": "code",
      "source": [
        "print (coolpig7 + pig_7 + PIGSARECOOL)"
      ],
      "metadata": {
        "colab": {
          "base_uri": "https://localhost:8080/"
        },
        "id": "h7a1yE3oPgDU",
        "outputId": "d370d934-e793-4a91-86fc-5fe527530e91"
      },
      "execution_count": null,
      "outputs": [
        {
          "output_type": "stream",
          "name": "stdout",
          "text": [
            "Piglet is Pooh's best friend\n"
          ]
        }
      ]
    },
    {
      "cell_type": "markdown",
      "source": [
        "There is a very subtle addition to the end of the strings I added there- `coolpig7` ends with an extra space so that when I printed all variables together, it reads as a sentence."
      ],
      "metadata": {
        "id": "FLStIjkgPzDn"
      }
    },
    {
      "cell_type": "code",
      "source": [
        "coolpig7 = \"Piglet is\"\n",
        "pig_7 = \"Pooh's\"\n",
        "PIGSARECOOL = \"best friend\"\n",
        "print (coolpig7 + pig_7 + PIGSARECOOL)"
      ],
      "metadata": {
        "colab": {
          "base_uri": "https://localhost:8080/"
        },
        "id": "323o4d6-QDmL",
        "outputId": "108e95d8-0923-4f4b-980e-bf6f2dae1d5d"
      },
      "execution_count": null,
      "outputs": [
        {
          "output_type": "stream",
          "name": "stdout",
          "text": [
            "Piglet isPooh'sbest friend\n"
          ]
        }
      ]
    },
    {
      "cell_type": "markdown",
      "source": [
        "There is a way to fix this!"
      ],
      "metadata": {
        "id": "D4yIZXCbQIlq"
      }
    },
    {
      "cell_type": "code",
      "source": [
        "print (coolpig7 + \" \" + pig_7 + \" \" + PIGSARECOOL)"
      ],
      "metadata": {
        "colab": {
          "base_uri": "https://localhost:8080/"
        },
        "id": "3m72Dob3QIP3",
        "outputId": "339de10c-2524-428f-f1bf-0d924f484e9c"
      },
      "execution_count": null,
      "outputs": [
        {
          "output_type": "stream",
          "name": "stdout",
          "text": [
            "Piglet is Pooh's best friend\n"
          ]
        }
      ]
    },
    {
      "cell_type": "markdown",
      "source": [
        "What would happen if you print() a variable and string together?"
      ],
      "metadata": {
        "id": "aKsUkxTOQTOT"
      }
    },
    {
      "cell_type": "code",
      "source": [
        "print(\"Hi\" + 5)"
      ],
      "metadata": {
        "colab": {
          "base_uri": "https://localhost:8080/",
          "height": 141
        },
        "id": "J8i7TzUwQStn",
        "outputId": "732d2901-297f-43e5-a5b3-e591da23737d"
      },
      "execution_count": null,
      "outputs": [
        {
          "output_type": "error",
          "ename": "TypeError",
          "evalue": "can only concatenate str (not \"int\") to str",
          "traceback": [
            "\u001b[0;31m---------------------------------------------------------------------------\u001b[0m",
            "\u001b[0;31mTypeError\u001b[0m                                 Traceback (most recent call last)",
            "\u001b[0;32m<ipython-input-28-c34970f3efa4>\u001b[0m in \u001b[0;36m<cell line: 1>\u001b[0;34m()\u001b[0m\n\u001b[0;32m----> 1\u001b[0;31m \u001b[0mprint\u001b[0m\u001b[0;34m(\u001b[0m\u001b[0;34m\"Hi\"\u001b[0m \u001b[0;34m+\u001b[0m \u001b[0;36m5\u001b[0m\u001b[0;34m)\u001b[0m\u001b[0;34m\u001b[0m\u001b[0;34m\u001b[0m\u001b[0m\n\u001b[0m",
            "\u001b[0;31mTypeError\u001b[0m: can only concatenate str (not \"int\") to str"
          ]
        }
      ]
    },
    {
      "cell_type": "markdown",
      "source": [
        "Yeah- Unhappy!"
      ],
      "metadata": {
        "id": "j1Yr0OwwQbOL"
      }
    },
    {
      "cell_type": "code",
      "source": [
        "print (\"Hi\" + \"5\")"
      ],
      "metadata": {
        "colab": {
          "base_uri": "https://localhost:8080/"
        },
        "id": "i1KRGLWJQdNs",
        "outputId": "c85ad60c-4e34-4f2e-e453-e08162d5ea31"
      },
      "execution_count": null,
      "outputs": [
        {
          "output_type": "stream",
          "name": "stdout",
          "text": [
            "Hi5\n"
          ]
        }
      ]
    },
    {
      "cell_type": "markdown",
      "source": [
        "## Global Variables\n",
        "\n",
        "For context, let's define/ensure we know what a function is.\n",
        "\n",
        " - what _is_ a function?\n",
        "\n",
        " We were using a function all this while to print our code- `print()`\n",
        "\n",
        " Now, let's look at the example script again."
      ],
      "metadata": {
        "id": "DiyvT_t4QmOX"
      }
    },
    {
      "cell_type": "code",
      "source": [
        "magic_num = 7\n",
        "\n",
        "def add_numbers(num1, num2):\n",
        "    sum = num1 + num2\n",
        "    if sum == magic_num:\n",
        "      print(\"you got the magic number!\")\n",
        "    else:\n",
        "      print(\"Sum: \", sum)\n",
        "\n",
        "\n",
        "# function call with two values\n",
        "add_numbers(5, 4)\n",
        "add_numbers(3, 4)"
      ],
      "metadata": {
        "colab": {
          "base_uri": "https://localhost:8080/"
        },
        "id": "LbF2FBhvRJDF",
        "outputId": "eadac3dd-9683-4e1e-beb6-b06a7e3825c9"
      },
      "execution_count": null,
      "outputs": [
        {
          "output_type": "stream",
          "name": "stdout",
          "text": [
            "Sum:  9\n",
            "you got the magic number!\n"
          ]
        }
      ]
    },
    {
      "cell_type": "markdown",
      "source": [
        "In this code snippet, which variable do you think is the global variable?\n",
        " - which variable is the local variable?\n",
        "\n",
        " ** you can make a local variable into a global variable by using `global <variable>`"
      ],
      "metadata": {
        "id": "QfNHnmL-R0NK"
      }
    },
    {
      "cell_type": "markdown",
      "source": [
        "# Arithmetic and Boolean operators\n",
        "\n",
        "Let's look at basic arithmetic and boolean operators.\n",
        "\n",
        "\n"
      ],
      "metadata": {
        "id": "5x-Q--fnScJD"
      }
    },
    {
      "cell_type": "markdown",
      "source": [
        "## Arithmetic operators\n",
        "\n",
        "| Operator | Name | Example |\n",
        "| -- | -- | -- |\n",
        "| + | Addition | x + y |\n",
        "| - | Subtraction | x - y|\n",
        "| * | Multiplication | x * y |\n",
        "| / | Division | x/y |\n",
        "| % | Modulus | x % y |\n",
        "| ** | Exponentiation | x ** y |"
      ],
      "metadata": {
        "id": "xvPz1K9NUVjc"
      }
    },
    {
      "cell_type": "code",
      "source": [
        "# Let's declare x and y to be 5 and 4\n",
        "\n",
        "x = 5\n",
        "y= 4\n",
        "\n",
        "# Additon\n",
        "print (x+y)\n",
        "# Subtraction\n",
        "print (x-y)\n",
        "# Multiplication\n",
        "print (x * y)\n",
        "# Division\n",
        "print (x/y)\n",
        "# Modulus\n",
        "print (x % y)\n",
        "# Exponentiation\n",
        "print (x ** y)"
      ],
      "metadata": {
        "colab": {
          "base_uri": "https://localhost:8080/"
        },
        "id": "_CCs5y9dTvOp",
        "outputId": "b5b0dbba-d689-420f-9d25-4f3171d8db0a"
      },
      "execution_count": null,
      "outputs": [
        {
          "output_type": "stream",
          "name": "stdout",
          "text": [
            "9\n",
            "1\n",
            "20\n",
            "1.25\n",
            "1\n",
            "625\n"
          ]
        }
      ]
    },
    {
      "cell_type": "markdown",
      "source": [
        "## Boolean Operators\n",
        "\n"
      ],
      "metadata": {
        "id": "DotdTYE9UPgc"
      }
    },
    {
      "cell_type": "markdown",
      "source": [
        "### And, Or, Not\n",
        "\n",
        "| Operation | Result |\n",
        "| -- | -- |\n",
        "| `x or y` | if x is true, then x, else y |\n",
        "| `x and y` | if x is false, then x, else y |\n",
        "| `not x` | if x is false, then True, else False |"
      ],
      "metadata": {
        "id": "paeZepmpUwqT"
      }
    },
    {
      "cell_type": "code",
      "source": [
        "x = 5\n",
        "y = 4\n",
        "\n",
        "if x==5 or y==5:\n",
        "  print(True)\n",
        "else:\n",
        "  print (False)\n",
        "\n",
        "if x==5 and y==5:\n",
        "  print(True)\n",
        "else:\n",
        "  print (False)\n",
        "\n",
        "if not x == 4:\n",
        "  print (\"x is not equal to 4\")"
      ],
      "metadata": {
        "colab": {
          "base_uri": "https://localhost:8080/"
        },
        "id": "oFjUZxOBUPTb",
        "outputId": "96febc51-3baf-409f-98a4-cd126a0baca4"
      },
      "execution_count": null,
      "outputs": [
        {
          "output_type": "stream",
          "name": "stdout",
          "text": [
            "True\n",
            "False\n",
            "x is not equal to 4\n"
          ]
        }
      ]
    },
    {
      "cell_type": "markdown",
      "source": [
        "### Comparisons\n",
        "\n",
        "| Operation | Meaning |\n",
        "| -- | -- |\n",
        "| `<` | less than |\n",
        "| `>` | greater than |\n",
        "| `<=` | less than or equal to |\n",
        "| `>=` | greater than or equal to |\n",
        "| `==` | equal |\n",
        "| `!=` | not equal |\n",
        "|  `is` | identity |\n",
        "| `is not` | negated identity|"
      ],
      "metadata": {
        "id": "fI-yRkoWWYvH"
      }
    },
    {
      "cell_type": "code",
      "source": [
        "x = 5\n",
        "y = 4\n",
        "\n",
        "if x > y:\n",
        "  print(True)\n",
        "else:\n",
        "  print (False)\n",
        "\n",
        "if x < y:\n",
        "  print(True)\n",
        "else:\n",
        "  print(False)\n",
        "\n",
        "if x is not y:\n",
        "  print(\"x is not equal to 4\")"
      ],
      "metadata": {
        "colab": {
          "base_uri": "https://localhost:8080/"
        },
        "id": "i-JwaI8eW_Js",
        "outputId": "5ac2dd75-c2f3-4550-cf9b-ad15c3659e3d"
      },
      "execution_count": null,
      "outputs": [
        {
          "output_type": "stream",
          "name": "stdout",
          "text": [
            "True\n",
            "False\n",
            "x is not equal to 4\n"
          ]
        }
      ]
    },
    {
      "cell_type": "markdown",
      "source": [
        "QUESTION: What happens if you run `if x is not 4` instead?"
      ],
      "metadata": {
        "id": "HWxSx5bMXsXe"
      }
    },
    {
      "cell_type": "markdown",
      "source": [
        "# Lists and Dictionaries\n",
        "\n",
        "We're slowly setting ourselves up with all the basics to run loop commands, and eventually set up functions.\n",
        "An important step before we get into loop commands is to get familiar with lists and dictionaries.\n"
      ],
      "metadata": {
        "id": "Ee8Y6ll1ZEdl"
      }
    },
    {
      "cell_type": "markdown",
      "source": [
        "## Lists (and tuples)\n",
        "\n",
        "_Lists_ are just lists of strings, integers, or both. Tuples are the same, but the biggest difference is that tuples are not mutable.\n"
      ],
      "metadata": {
        "id": "IJecEmaDZfdu"
      }
    },
    {
      "cell_type": "code",
      "source": [
        "my_first_list=[\"bluesky\",\"mastadon\",\"twitter\"]"
      ],
      "metadata": {
        "id": "fdSOdt8LZ22F"
      },
      "execution_count": null,
      "outputs": []
    },
    {
      "cell_type": "markdown",
      "source": [
        "Given our journey with R, and what we learnt with the print () above, can you generate a code to print \"bluesky is better than mastodon\"?"
      ],
      "metadata": {
        "id": "lLh4-apqa952"
      }
    },
    {
      "cell_type": "code",
      "source": [
        "# @title Answer\n",
        "\n",
        "print (my_first_list[0], \"is better than\", my_first_list[1])"
      ],
      "metadata": {
        "colab": {
          "base_uri": "https://localhost:8080/"
        },
        "cellView": "form",
        "id": "iYyHQuPOfHT8",
        "outputId": "b185c802-6659-488e-f95e-6149cd6c492b"
      },
      "execution_count": null,
      "outputs": [
        {
          "output_type": "stream",
          "name": "stdout",
          "text": [
            "bluesky is better than mastadon\n"
          ]
        }
      ]
    },
    {
      "cell_type": "markdown",
      "source": [
        "Lists are handy, and you can add and remove to the lists, modify, and splice them!"
      ],
      "metadata": {
        "id": "85G24jBlfi2J"
      }
    },
    {
      "cell_type": "code",
      "source": [
        "my_first_list.append(\"linkedin\")\n",
        "print(my_first_list)"
      ],
      "metadata": {
        "colab": {
          "base_uri": "https://localhost:8080/"
        },
        "id": "S27yGrZ0giQG",
        "outputId": "92dc8b2d-1f4d-4297-962a-39822b35d182"
      },
      "execution_count": null,
      "outputs": [
        {
          "output_type": "stream",
          "name": "stdout",
          "text": [
            "['bluesky', 'mastadon', 'twitter', 'linkedin']\n"
          ]
        }
      ]
    },
    {
      "cell_type": "code",
      "source": [
        "my_first_list.remove(\"twitter\")\n",
        "print(my_first_list)"
      ],
      "metadata": {
        "colab": {
          "base_uri": "https://localhost:8080/"
        },
        "id": "sBD_okmxhXPA",
        "outputId": "428235bb-2970-465d-8e28-97e558d7fccd"
      },
      "execution_count": null,
      "outputs": [
        {
          "output_type": "stream",
          "name": "stdout",
          "text": [
            "['bluesky', 'mastadon', 'linkedin']\n"
          ]
        }
      ]
    },
    {
      "cell_type": "code",
      "source": [
        "my_first_list.sort()\n",
        "print(my_first_list)"
      ],
      "metadata": {
        "colab": {
          "base_uri": "https://localhost:8080/"
        },
        "id": "OGXoxtnNhhcI",
        "outputId": "e4a5c169-736d-4e8a-8ebb-93a2440d5d6e"
      },
      "execution_count": null,
      "outputs": [
        {
          "output_type": "stream",
          "name": "stdout",
          "text": [
            "['bluesky', 'linkedin', 'mastadon']\n"
          ]
        }
      ]
    },
    {
      "cell_type": "code",
      "source": [
        "my_first_list[-1]"
      ],
      "metadata": {
        "colab": {
          "base_uri": "https://localhost:8080/",
          "height": 35
        },
        "id": "ILMp5FB_hmYF",
        "outputId": "4f1f17e3-78bc-46fb-c226-c809c519fb64"
      },
      "execution_count": null,
      "outputs": [
        {
          "output_type": "execute_result",
          "data": {
            "text/plain": [
              "'mastadon'"
            ],
            "application/vnd.google.colaboratory.intrinsic+json": {
              "type": "string"
            }
          },
          "metadata": {},
          "execution_count": 98
        }
      ]
    },
    {
      "cell_type": "code",
      "source": [
        "my_first_list[0]"
      ],
      "metadata": {
        "colab": {
          "base_uri": "https://localhost:8080/",
          "height": 35
        },
        "id": "fm7vnBJNhomj",
        "outputId": "ce6f8cf0-62aa-4373-b604-eaa107075f80"
      },
      "execution_count": null,
      "outputs": [
        {
          "output_type": "execute_result",
          "data": {
            "text/plain": [
              "'bluesky'"
            ],
            "application/vnd.google.colaboratory.intrinsic+json": {
              "type": "string"
            }
          },
          "metadata": {},
          "execution_count": 99
        }
      ]
    },
    {
      "cell_type": "code",
      "source": [
        "my_first_list"
      ],
      "metadata": {
        "colab": {
          "base_uri": "https://localhost:8080/"
        },
        "id": "RoRWJY8Jhqoh",
        "outputId": "63201b05-0fce-4ae1-ca8c-ffdc012e41ff"
      },
      "execution_count": null,
      "outputs": [
        {
          "output_type": "execute_result",
          "data": {
            "text/plain": [
              "['bluesky', 'linkedin', 'mastadon']"
            ]
          },
          "metadata": {},
          "execution_count": 101
        }
      ]
    },
    {
      "cell_type": "code",
      "source": [
        "my_first_list[1:-1] == my_first_list[1:2]"
      ],
      "metadata": {
        "colab": {
          "base_uri": "https://localhost:8080/"
        },
        "id": "x29J3PFSin4F",
        "outputId": "d254e31e-22a5-4289-cd54-68e43267cc90"
      },
      "execution_count": null,
      "outputs": [
        {
          "output_type": "execute_result",
          "data": {
            "text/plain": [
              "True"
            ]
          },
          "metadata": {},
          "execution_count": 104
        }
      ]
    },
    {
      "cell_type": "markdown",
      "source": [
        "## Tuples\n",
        "\n",
        "Tuples are just like lists, just less flexible with what you can do with them."
      ],
      "metadata": {
        "id": "syZXklhOi1Ps"
      }
    },
    {
      "cell_type": "code",
      "source": [
        "my_first_tuple = (1,1,2,3,5,8)"
      ],
      "metadata": {
        "id": "OMYHGxv3jBRa"
      },
      "execution_count": null,
      "outputs": []
    },
    {
      "cell_type": "markdown",
      "source": [
        "Note the round parenthesis as opposed to the square brackets!"
      ],
      "metadata": {
        "id": "AZArKIo_jG--"
      }
    },
    {
      "cell_type": "code",
      "source": [
        "my_first_tuple[0]"
      ],
      "metadata": {
        "colab": {
          "base_uri": "https://localhost:8080/"
        },
        "id": "lw1Od_vjkFuS",
        "outputId": "49517a61-827e-4577-ef78-c5ceccda6d17"
      },
      "execution_count": null,
      "outputs": [
        {
          "output_type": "execute_result",
          "data": {
            "text/plain": [
              "1"
            ]
          },
          "metadata": {},
          "execution_count": 106
        }
      ]
    },
    {
      "cell_type": "code",
      "source": [
        "my_first_tuple[4] = 9"
      ],
      "metadata": {
        "colab": {
          "base_uri": "https://localhost:8080/",
          "height": 141
        },
        "id": "uZMveLaLkKBo",
        "outputId": "2da37ece-f103-4464-f4fa-9317d5e01b69"
      },
      "execution_count": null,
      "outputs": [
        {
          "output_type": "error",
          "ename": "TypeError",
          "evalue": "'tuple' object does not support item assignment",
          "traceback": [
            "\u001b[0;31m---------------------------------------------------------------------------\u001b[0m",
            "\u001b[0;31mTypeError\u001b[0m                                 Traceback (most recent call last)",
            "\u001b[0;32m<ipython-input-107-9319b56f3a7a>\u001b[0m in \u001b[0;36m<cell line: 1>\u001b[0;34m()\u001b[0m\n\u001b[0;32m----> 1\u001b[0;31m \u001b[0mmy_first_tuple\u001b[0m\u001b[0;34m[\u001b[0m\u001b[0;36m4\u001b[0m\u001b[0;34m]\u001b[0m \u001b[0;34m=\u001b[0m \u001b[0;36m9\u001b[0m\u001b[0;34m\u001b[0m\u001b[0;34m\u001b[0m\u001b[0m\n\u001b[0m",
            "\u001b[0;31mTypeError\u001b[0m: 'tuple' object does not support item assignment"
          ]
        }
      ]
    },
    {
      "cell_type": "markdown",
      "source": [
        "yeah- the tuple doesn't like that."
      ],
      "metadata": {
        "id": "ZeFsTQPJkNLr"
      }
    },
    {
      "cell_type": "markdown",
      "source": [
        "## Dictionaries\n",
        "\n",
        " Dictionaries allow users to store data in key:value pairs."
      ],
      "metadata": {
        "id": "y_iqdFYDkeUZ"
      }
    },
    {
      "cell_type": "code",
      "source": [
        "#create a LOTR dictionary\n",
        "LOTR_dict = {\n",
        "    \"Frodo Baggins\": \"Hobbit\",\n",
        "    \"Eowyn\": \"Noblewoman\",\n",
        "    \"Gandalf\": \"Wizard\"\n",
        "}\n",
        "\n",
        "# Display the dictionary\n",
        "print(LOTR_dict)"
      ],
      "metadata": {
        "colab": {
          "base_uri": "https://localhost:8080/"
        },
        "id": "KzYZC7GJlaC2",
        "outputId": "71170359-9221-4335-9a0a-f0d3f9fd5211"
      },
      "execution_count": null,
      "outputs": [
        {
          "output_type": "stream",
          "name": "stdout",
          "text": [
            "{'Frodo Baggins': 'Hobbit', 'Eowyn': 'Noblewoman', 'Gandalf': 'Wizard'}\n"
          ]
        }
      ]
    },
    {
      "cell_type": "code",
      "source": [
        "LOTR_dict['Gandalf']"
      ],
      "metadata": {
        "colab": {
          "base_uri": "https://localhost:8080/",
          "height": 35
        },
        "id": "CNoPc9JamA7F",
        "outputId": "e5e637f1-e46f-4da6-d83f-62fef2decdb2"
      },
      "execution_count": null,
      "outputs": [
        {
          "output_type": "execute_result",
          "data": {
            "text/plain": [
              "'Wizard'"
            ],
            "application/vnd.google.colaboratory.intrinsic+json": {
              "type": "string"
            }
          },
          "metadata": {},
          "execution_count": 109
        }
      ]
    },
    {
      "cell_type": "code",
      "source": [
        "LOTR_dict[\"Gandalf\"]"
      ],
      "metadata": {
        "colab": {
          "base_uri": "https://localhost:8080/",
          "height": 35
        },
        "id": "vJOA8DipmFXd",
        "outputId": "c9254c86-5653-46de-b9c0-2a145799583f"
      },
      "execution_count": null,
      "outputs": [
        {
          "output_type": "execute_result",
          "data": {
            "text/plain": [
              "'Wizard'"
            ],
            "application/vnd.google.colaboratory.intrinsic+json": {
              "type": "string"
            }
          },
          "metadata": {},
          "execution_count": 110
        }
      ]
    },
    {
      "cell_type": "code",
      "source": [
        "print(LOTR_dict.items())"
      ],
      "metadata": {
        "colab": {
          "base_uri": "https://localhost:8080/"
        },
        "id": "eAUETAxUmZvD",
        "outputId": "4220cf29-6676-40bf-acf6-0fcd3652e8c3"
      },
      "execution_count": null,
      "outputs": [
        {
          "output_type": "stream",
          "name": "stdout",
          "text": [
            "dict_items([('Frodo Baggins', 'Hobbit'), ('Eowyn', 'Noblewoman'), ('Gandalf', 'Wizard')])\n"
          ]
        }
      ]
    },
    {
      "cell_type": "code",
      "source": [
        "print(LOTR_dict.keys())"
      ],
      "metadata": {
        "colab": {
          "base_uri": "https://localhost:8080/"
        },
        "id": "yrsMPn0umdEL",
        "outputId": "29ea49d6-1ff3-4a44-e541-b1e31ca27d94"
      },
      "execution_count": null,
      "outputs": [
        {
          "output_type": "stream",
          "name": "stdout",
          "text": [
            "dict_keys(['Frodo Baggins', 'Eowyn', 'Gandalf'])\n"
          ]
        }
      ]
    },
    {
      "cell_type": "code",
      "source": [
        "print(LOTR_dict.values())"
      ],
      "metadata": {
        "colab": {
          "base_uri": "https://localhost:8080/"
        },
        "id": "d1769qpqmfYK",
        "outputId": "be5f4c2a-cdde-442a-9bab-18517faad645"
      },
      "execution_count": null,
      "outputs": [
        {
          "output_type": "stream",
          "name": "stdout",
          "text": [
            "dict_values(['Hobbit', 'Noblewoman', 'Wizard'])\n"
          ]
        }
      ]
    },
    {
      "cell_type": "markdown",
      "source": [
        "# Exercise!\n",
        "\n",
        "\n",
        "1. Create a list of 5 elements that consists of numbers. (e.g., `[1,2,3,4,5]`)\n",
        "\n",
        "2. Calculate the sum of all of these numbers. (If you are used to python, feel free to use for loops!)\n",
        "\n",
        "3. Create a dictionary of key-value pairs that lists the name, age, and city of a person. (e.g., `\"name\": \"John\", \"age\": 30, \"city\": \"New York\"`)\n",
        "\n",
        "4. Print the value of age from the dicitonary. (i.e, \"The value of the 'age' key:  \")\n",
        "\n",
        "5. Add a new key-value pair to this dicitonary (like, country?)\n",
        "\n",
        "6. Print the updated dictionary\n",
        "\n",
        "7. Delete the city key from the dictionary\n",
        "\n",
        "8. Print the updated dicitonary\n",
        "\n",
        "9. Use `if-else` to check if age still exists in your dictionary\n",
        "\n",
        "\n",
        "Post your output on Slack 😉"
      ],
      "metadata": {
        "id": "dL02o-SDm5vx"
      }
    },
    {
      "cell_type": "code",
      "source": [
        "# @title Answer\n",
        "# Create a list of numbers\n",
        "numbers = [1, 2, 3, 4, 5]\n",
        "\n",
        "# Calculate the sum of the numbers in the list\n",
        "sum = 0\n",
        "for number in numbers:\n",
        "    sum += number\n",
        "\n",
        "# Print the sum of the numbers\n",
        "print(\"The sum of the numbers is:\", sum)\n",
        "\n",
        "# Create a dictionary of key-value pairs\n",
        "my_dict = {\"name\": \"John\", \"age\": 30, \"city\": \"New York\"}\n",
        "\n",
        "# Print the value of the \"age\" key\n",
        "print(\"The value of the 'age' key is:\", my_dict[\"age\"])\n",
        "\n",
        "# Add a new key-value pair to the dictionary\n",
        "my_dict[\"country\"] = \"USA\"\n",
        "\n",
        "# Print the updated dictionary\n",
        "print(\"The updated dictionary is:\", my_dict)\n",
        "\n",
        "# Remove the \"city\" key from the dictionary\n",
        "del my_dict[\"city\"]\n",
        "\n",
        "# Print the updated dictionary\n",
        "print(\"The updated dictionary is:\", my_dict)\n",
        "\n",
        "# Check if the \"age\" key exists in the dictionary\n",
        "if \"age\" in my_dict:\n",
        "    print(\"The 'age' key exists in the dictionary.\")\n",
        "else:\n",
        "    print(\"The 'age' key does not exist in the dictionary.\")"
      ],
      "metadata": {
        "colab": {
          "base_uri": "https://localhost:8080/"
        },
        "cellView": "form",
        "id": "eB-45pLhoYjs",
        "outputId": "29962d15-1011-43de-c0f7-e526f2998b44"
      },
      "execution_count": null,
      "outputs": [
        {
          "output_type": "stream",
          "name": "stdout",
          "text": [
            "The sum of the numbers is: 15\n",
            "The value of the 'age' key is: 30\n",
            "The updated dictionary is: {'name': 'John', 'age': 30, 'city': 'New York', 'country': 'USA'}\n",
            "The updated dictionary is: {'name': 'John', 'age': 30, 'country': 'USA'}\n",
            "The 'age' key exists in the dictionary.\n"
          ]
        }
      ]
    }
  ]
}